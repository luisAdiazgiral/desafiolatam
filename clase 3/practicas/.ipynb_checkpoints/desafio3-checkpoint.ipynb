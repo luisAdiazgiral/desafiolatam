{
 "cells": [
  {
   "cell_type": "code",
   "execution_count": 22,
   "metadata": {},
   "outputs": [
    {
     "name": "stdout",
     "output_type": "stream",
     "text": [
      "Las siguientes velocidades y distancias se encuentran bajo el promedio de velocidad\n",
      "(4, 2)\n",
      "(4, 10)\n",
      "(7, 4)\n",
      "(7, 22)\n",
      "(8, 16)\n",
      "(9, 10)\n",
      "(10, 18)\n",
      "(10, 26)\n",
      "(10, 34)\n",
      "(11, 17)\n",
      "(11, 28)\n",
      "(12, 14)\n",
      "(12, 20)\n",
      "(12, 24)\n",
      "(12, 28)\n",
      "(13, 26)\n",
      "(13, 34)\n",
      "(13, 34)\n",
      "(13, 46)\n",
      "(14, 26)\n",
      "(14, 36)\n",
      "(14, 60)\n",
      "(14, 80)\n",
      "(15, 20)\n",
      "(15, 26)\n",
      "(15, 54)\n",
      "Existen 26 velocidades bajo el promedio\n",
      "Las siguientes velocidades  se encuentran bajo el promedio y las distancias se encuentran sobre el promedio\n",
      "(13, 46)\n",
      "(14, 60)\n",
      "(14, 80)\n",
      "(15, 54)\n",
      "Existen 4 vehiculos con velocidades bajo el promedio y distancias sobre el promedio\n",
      "Las siguientes velocidades sobre el promedio de velocidad\n",
      "(16, 32)\n",
      "(16, 40)\n",
      "(17, 32)\n",
      "(17, 40)\n",
      "(17, 50)\n",
      "(18, 42)\n",
      "(18, 56)\n",
      "(18, 76)\n",
      "(18, 84)\n",
      "(19, 36)\n",
      "(19, 46)\n",
      "(19, 68)\n",
      "(20, 32)\n",
      "(20, 48)\n",
      "(20, 52)\n",
      "(20, 56)\n",
      "(20, 64)\n",
      "(22, 66)\n",
      "(23, 54)\n",
      "(24, 70)\n",
      "(24, 92)\n",
      "(24, 93)\n",
      "(24, 120)\n",
      "(25, 85)\n",
      "Existen 24 velocidades bajo el promedio\n",
      "Las siguientes distancias se encuentran bajo el promedio y las velocidades se encuentran sobre el promedio\n",
      "(16, 32)\n",
      "(16, 40)\n",
      "(17, 32)\n",
      "(17, 40)\n",
      "(18, 42)\n",
      "(19, 36)\n",
      "(20, 32)\n",
      "Existen 7 vehiculos con velocidades bajo el promedio y distancias sobre el promedio\n"
     ]
    }
   ],
   "source": [
    "velocidad = [4, 4, 7, 7, 8, 9, 10, 10, 10,11, 11, 12, 12, 12, 12, 13, 13,13, 13, 14, 14, 14, 14, 15, 15,15, 16, 16, 17, 17, 17, 18, 18,18, 18, 19, 19, 19, 20, 20, 20,20, 20, 22, 23, 24, 24, 24, 24, 25]\n",
    "distancia = [2, 10, 4, 22, 16, 10, 18, 26, 34,17, 28, 14, 20, 24, 28, 26, 34, 34,46, 26, 36, 60, 80, 20, 26, 54, 32,40, 32, 40, 50, 42, 56, 76, 84, 36,46, 68, 32, 48, 52, 56, 64, 66, 54,70, 92, 93, 120,85]\n",
    "vd=[]\n",
    "for i in zip(velocidad,distancia):\n",
    "    vd.append(i)\n",
    "def promedio(x):\n",
    "    return sum(x)/len(x)\n",
    "prom=promedio(velocidad)\n",
    "dist=promedio(distancia)\n",
    "vbp=0\n",
    "vbpdsp=0\n",
    "vsp=0\n",
    "vspdbp=0\n",
    "print('Las siguientes velocidades y distancias se encuentran bajo el promedio de velocidad')\n",
    "for x in range(len(vd)):\n",
    "    if (vd[x][0])<prom:\n",
    "        print(vd[x])\n",
    "        vbp+=1\n",
    "print(f'Existen {vbp} velocidades bajo el promedio')\n",
    "print('Las siguientes velocidades  se encuentran bajo el promedio y las distancias se encuentran sobre el promedio')\n",
    "for x in range(len(vd)):\n",
    "    if (vd[x][0])<prom and (vd[x][1])>dist:\n",
    "        print(vd[x])\n",
    "        vbpdsp +=1\n",
    "print(f'Existen {vbpdsp} vehiculos con velocidades bajo el promedio y distancias sobre el promedio')\n",
    "print('Las siguientes velocidades sobre el promedio de velocidad')\n",
    "for x in range(len(vd)):\n",
    "    if (vd[x][0])>prom:\n",
    "        print(vd[x])\n",
    "        vsp +=1\n",
    "print(f'Existen {vsp} velocidades bajo el promedio')\n",
    "print('Las siguientes distancias se encuentran bajo el promedio y las velocidades se encuentran sobre el promedio')\n",
    "for x in range(len(vd)):\n",
    "    if (vd[x][0])>prom and (vd[x][1])<dist:\n",
    "        print(vd[x])\n",
    "        vspdbp +=1\n",
    "print(f'Existen {vspdbp} vehiculos con velocidades bajo el promedio y distancias sobre el promedio')"
   ]
  },
  {
   "cell_type": "code",
   "execution_count": null,
   "metadata": {
    "collapsed": true
   },
   "outputs": [],
   "source": []
  },
  {
   "cell_type": "code",
   "execution_count": null,
   "metadata": {
    "collapsed": true
   },
   "outputs": [],
   "source": []
  },
  {
   "cell_type": "code",
   "execution_count": null,
   "metadata": {
    "collapsed": true
   },
   "outputs": [],
   "source": []
  },
  {
   "cell_type": "code",
   "execution_count": null,
   "metadata": {
    "collapsed": true
   },
   "outputs": [],
   "source": []
  },
  {
   "cell_type": "code",
   "execution_count": null,
   "metadata": {
    "collapsed": true
   },
   "outputs": [],
   "source": []
  },
  {
   "cell_type": "code",
   "execution_count": null,
   "metadata": {
    "collapsed": true
   },
   "outputs": [],
   "source": []
  },
  {
   "cell_type": "code",
   "execution_count": null,
   "metadata": {
    "collapsed": true
   },
   "outputs": [],
   "source": []
  },
  {
   "cell_type": "code",
   "execution_count": null,
   "metadata": {
    "collapsed": true
   },
   "outputs": [],
   "source": []
  },
  {
   "cell_type": "code",
   "execution_count": null,
   "metadata": {
    "collapsed": true
   },
   "outputs": [],
   "source": []
  },
  {
   "cell_type": "code",
   "execution_count": null,
   "metadata": {
    "collapsed": true
   },
   "outputs": [],
   "source": []
  },
  {
   "cell_type": "code",
   "execution_count": null,
   "metadata": {
    "collapsed": true
   },
   "outputs": [],
   "source": []
  },
  {
   "cell_type": "code",
   "execution_count": null,
   "metadata": {
    "collapsed": true
   },
   "outputs": [],
   "source": []
  },
  {
   "cell_type": "code",
   "execution_count": null,
   "metadata": {
    "collapsed": true
   },
   "outputs": [],
   "source": []
  },
  {
   "cell_type": "code",
   "execution_count": null,
   "metadata": {
    "collapsed": true
   },
   "outputs": [],
   "source": []
  },
  {
   "cell_type": "code",
   "execution_count": 5,
   "metadata": {},
   "outputs": [
    {
     "name": "stdout",
     "output_type": "stream",
     "text": [
      "[(4, 2), (4, 10), (7, 4), (7, 22), (8, 16), (9, 10), (10, 18), (10, 26), (10, 34), (11, 17), (11, 28), (12, 14), (12, 20), (12, 24), (12, 28), (13, 26), (13, 34), (13, 34), (13, 46), (14, 26), (14, 36), (14, 60), (14, 80), (15, 20), (15, 26), (15, 54), (16, 32), (16, 40), (17, 32), (17, 40), (17, 50), (18, 42), (18, 56), (18, 76), (18, 84), (19, 36), (19, 46), (19, 68), (20, 32), (20, 48), (20, 52), (20, 56), (20, 64), (22, 66), (23, 54), (24, 70), (24, 92), (24, 93), (24, 120), (25, 85)]\n"
     ]
    }
   ],
   "source": [
    "print(vd)"
   ]
  },
  {
   "cell_type": "code",
   "execution_count": null,
   "metadata": {
    "collapsed": true
   },
   "outputs": [],
   "source": []
  },
  {
   "cell_type": "code",
   "execution_count": 8,
   "metadata": {},
   "outputs": [
    {
     "name": "stdout",
     "output_type": "stream",
     "text": [
      "2\n"
     ]
    }
   ],
   "source": [
    "print(vd[0][1])"
   ]
  },
  {
   "cell_type": "code",
   "execution_count": null,
   "metadata": {
    "collapsed": true
   },
   "outputs": [],
   "source": []
  },
  {
   "cell_type": "code",
   "execution_count": null,
   "metadata": {
    "collapsed": true
   },
   "outputs": [],
   "source": []
  },
  {
   "cell_type": "code",
   "execution_count": null,
   "metadata": {
    "collapsed": true
   },
   "outputs": [],
   "source": []
  },
  {
   "cell_type": "code",
   "execution_count": null,
   "metadata": {
    "collapsed": true
   },
   "outputs": [],
   "source": []
  },
  {
   "cell_type": "code",
   "execution_count": null,
   "metadata": {
    "collapsed": true
   },
   "outputs": [],
   "source": []
  }
 ],
 "metadata": {
  "kernelspec": {
   "display_name": "Python 3",
   "language": "python",
   "name": "python3"
  },
  "language_info": {
   "codemirror_mode": {
    "name": "ipython",
    "version": 3
   },
   "file_extension": ".py",
   "mimetype": "text/x-python",
   "name": "python",
   "nbconvert_exporter": "python",
   "pygments_lexer": "ipython3",
   "version": "3.6.3"
  }
 },
 "nbformat": 4,
 "nbformat_minor": 2
}
