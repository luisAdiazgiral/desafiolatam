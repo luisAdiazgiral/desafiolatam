{
 "cells": [
  {
   "cell_type": "code",
   "execution_count": 9,
   "metadata": {},
   "outputs": [
    {
     "name": "stdout",
     "output_type": "stream",
     "text": [
      "el total de registro y columnas es de,  (271116, 15)  \n",
      "\n",
      "Se han realizado  (35,)  competencias durante el periodo de tiempo \n",
      "\n",
      "el porcentaje de ateltas que han participado es el siguiente:\n",
      "\n",
      "\n",
      "El primer juego de verano fue en :   1896 \n",
      "\n",
      "El primer juego de invierno fue en :   1896 \n",
      "\n",
      "La cantidad total de atletas que han representado a su pais a traves de los juegos es de:  United States     17847\n",
      "France            11988\n",
      "Great Britain     11404\n",
      "Italy             10260\n",
      "Germany            9326\n",
      "Canada             9279\n",
      "Japan              8289\n",
      "Sweden             8052\n",
      "Australia          7513\n",
      "Hungary            6547\n",
      "Poland             6143\n",
      "Switzerland        5844\n",
      "Netherlands        5718\n",
      "Soviet Union       5535\n",
      "Finland            5379\n",
      "Spain              5224\n",
      "China              4975\n",
      "Russia             4922\n",
      "Austria            4866\n",
      "Norway             4708\n",
      "Czechoslovakia     4352\n",
      "South Korea        4344\n",
      "Romania            4303\n",
      "Brazil             3772\n",
      "Belgium            3687\n",
      "Bulgaria           3518\n",
      "Denmark            3424\n",
      "Argentina          3199\n",
      "West Germany       3199\n",
      "Greece             2976\n",
      "                  ...  \n",
      "Digby                 1\n",
      "Nrnberg               1\n",
      "Hb-24                 1\n",
      "Crabe I-3             1\n",
      "Gran Gesto            1\n",
      "Lancet                1\n",
      "Camille               1\n",
      "Nan-2                 1\n",
      "Lbeck                 1\n",
      "Crabe I-11            1\n",
      "Notavel               1\n",
      "Souriceau-38          1\n",
      "Carabinier-5          1\n",
      "Pirouette-31          1\n",
      "Don Schufro           1\n",
      "Rambo                 1\n",
      "Tornade-16            1\n",
      "Angerburg             1\n",
      "Ravel                 1\n",
      "Colette-10            1\n",
      "Femur-18              1\n",
      "Newfoundland          1\n",
      "Mascaret-28           1\n",
      "Jeannette-18          1\n",
      "Relampago             1\n",
      "Sunrise               1\n",
      "Danzig                1\n",
      "Mythilus              1\n",
      "Femur-1               1\n",
      "Solos Carex           1\n",
      "Name: Team, Length: 1184, dtype: int64 \n",
      "\n",
      "La cantidad de medallas entrgadas segun su categoria es:\n",
      "La cantidad de medallas de oro es:  13372\n",
      "La cantidad de medallas de Bronce es:  13295\n",
      "La cantidad de medallas de Plata es:  13116\n"
     ]
    }
   ],
   "source": [
    "import pandas as pd\n",
    "#import numpy as np\n",
    "\n",
    "df = pd.read_csv(\"athlete_events.csv\")\n",
    "\n",
    "print('el total de registro y columnas es de, ',df.shape,' \\n')\n",
    "\n",
    "df.head()\n",
    "\n",
    "print('Se han realizado ',df.Year.unique().shape,' competencias durante el periodo de tiempo \\n')\n",
    "\n",
    "print('el porcentaje de ateltas que han participado es el siguiente:')\n",
    "df['Season'].value_counts('%')*100\n",
    "print('\\n')\n",
    "\n",
    "primeros_juegos_ver=df[df['Season']=='Summer']\n",
    "pjv=primeros_juegos_ver.Year.min()\n",
    "print('El primer juego de verano fue en :  ', pjv,'\\n')\n",
    "\n",
    "primeros_juegos_inv=df[df['Season']=='Winter']\n",
    "pji=primeros_juegos_inv.Year.min()\n",
    "print('El primer juego de invierno fue en :  ', pjv, '\\n')\n",
    "\n",
    "print('La cantidad total de atletas que han representado a su pais a traves de los juegos es de: ',df['Team'].value_counts(),'\\n')\n",
    "df.dropna()\n",
    "\n",
    "print('La cantidad de medallas entrgadas segun su categoria es:')\n",
    "oro = df[df['Medal'] == 'Gold']\n",
    "con = 0\n",
    "for x in range(len(oro)):\n",
    "    con +=1\n",
    "print('La cantidad de medallas de oro es: ',con)\n",
    "bronce = df[df['Medal'] == 'Bronze']\n",
    "con2 = 0\n",
    "for x in range(len(bronce)):\n",
    "    con2 +=1\n",
    "print('La cantidad de medallas de Bronce es: ',con2)\n",
    "plata = df[df['Medal'] == 'Silver']\n",
    "con3 = 0\n",
    "for x in range(len(plata)):\n",
    "    con3 +=1\n",
    "print('La cantidad de medallas de Plata es: ',con3)\n",
    "print('\\n')"
   ]
  },
  {
   "cell_type": "code",
   "execution_count": null,
   "metadata": {
    "collapsed": true
   },
   "outputs": [],
   "source": []
  },
  {
   "cell_type": "code",
   "execution_count": null,
   "metadata": {
    "collapsed": true
   },
   "outputs": [],
   "source": []
  },
  {
   "cell_type": "code",
   "execution_count": null,
   "metadata": {
    "collapsed": true
   },
   "outputs": [],
   "source": []
  },
  {
   "cell_type": "code",
   "execution_count": null,
   "metadata": {
    "collapsed": true
   },
   "outputs": [],
   "source": []
  },
  {
   "cell_type": "code",
   "execution_count": null,
   "metadata": {
    "collapsed": true
   },
   "outputs": [],
   "source": []
  },
  {
   "cell_type": "code",
   "execution_count": null,
   "metadata": {
    "collapsed": true
   },
   "outputs": [],
   "source": []
  },
  {
   "cell_type": "code",
   "execution_count": null,
   "metadata": {
    "collapsed": true
   },
   "outputs": [],
   "source": []
  },
  {
   "cell_type": "code",
   "execution_count": null,
   "metadata": {
    "collapsed": true
   },
   "outputs": [],
   "source": []
  },
  {
   "cell_type": "code",
   "execution_count": null,
   "metadata": {
    "collapsed": true
   },
   "outputs": [],
   "source": []
  }
 ],
 "metadata": {
  "kernelspec": {
   "display_name": "Python 3",
   "language": "python",
   "name": "python3"
  },
  "language_info": {
   "codemirror_mode": {
    "name": "ipython",
    "version": 3
   },
   "file_extension": ".py",
   "mimetype": "text/x-python",
   "name": "python",
   "nbconvert_exporter": "python",
   "pygments_lexer": "ipython3",
   "version": "3.6.3"
  }
 },
 "nbformat": 4,
 "nbformat_minor": 2
}
