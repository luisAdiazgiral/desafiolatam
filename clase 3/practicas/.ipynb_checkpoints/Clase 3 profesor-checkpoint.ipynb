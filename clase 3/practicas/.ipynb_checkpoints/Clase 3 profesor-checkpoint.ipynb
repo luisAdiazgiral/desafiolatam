{
 "cells": [
  {
   "cell_type": "markdown",
   "metadata": {},
   "source": [
    "# Refresher en funciones"
   ]
  },
  {
   "cell_type": "markdown",
   "metadata": {},
   "source": [
    "* Toda función debe estar definida con la siguiente forma canónica:"
   ]
  },
  {
   "cell_type": "code",
   "execution_count": null,
   "metadata": {
    "collapsed": true
   },
   "outputs": [],
   "source": [
    "def saludar():\n",
    "    # acá van las expresiones a evaluar\n",
    "    print(\"Hola Mundo\")"
   ]
  },
  {
   "cell_type": "markdown",
   "metadata": {},
   "source": [
    "* Si tenemos argumentos por defecto a ingresar, debemos asegurarnos que si son posicionales deben ser obligatorio. Si no, va a pasar lo siguiente."
   ]
  },
  {
   "cell_type": "code",
   "execution_count": 9,
   "metadata": {
    "collapsed": true
   },
   "outputs": [],
   "source": [
    "def saludar(nombre, apellido=\"Dinosaurio\"):\n",
    "    print(f'hola mundo {nombre} {apellido}')"
   ]
  },
  {
   "cell_type": "code",
   "execution_count": 13,
   "metadata": {},
   "outputs": [
    {
     "ename": "SyntaxError",
     "evalue": "positional argument follows keyword argument (<ipython-input-13-81fe83b6a815>, line 1)",
     "output_type": "error",
     "traceback": [
      "\u001b[0;36m  File \u001b[0;32m\"<ipython-input-13-81fe83b6a815>\"\u001b[0;36m, line \u001b[0;32m1\u001b[0m\n\u001b[0;31m    saludar(apellido='Brontosaurio', 'Ramiro')\u001b[0m\n\u001b[0m                                    ^\u001b[0m\n\u001b[0;31mSyntaxError\u001b[0m\u001b[0;31m:\u001b[0m positional argument follows keyword argument\n"
     ]
    }
   ],
   "source": [
    "saludar(apellido='Brontosaurio', 'Ramiro')"
   ]
  },
  {
   "cell_type": "markdown",
   "metadata": {},
   "source": [
    "# Listas"
   ]
  },
  {
   "cell_type": "code",
   "execution_count": 18,
   "metadata": {
    "collapsed": true
   },
   "outputs": [],
   "source": [
    "numeros = list(range(20))"
   ]
  },
  {
   "cell_type": "markdown",
   "metadata": {},
   "source": [
    "## Métodos de listas"
   ]
  },
  {
   "cell_type": "code",
   "execution_count": 20,
   "metadata": {},
   "outputs": [
    {
     "data": {
      "text/plain": [
       "list"
      ]
     },
     "execution_count": 20,
     "metadata": {},
     "output_type": "execute_result"
    }
   ],
   "source": [
    "type(numeros)"
   ]
  },
  {
   "cell_type": "code",
   "execution_count": 21,
   "metadata": {
    "collapsed": true
   },
   "outputs": [],
   "source": [
    "numeros.append(21)"
   ]
  },
  {
   "cell_type": "code",
   "execution_count": 23,
   "metadata": {
    "collapsed": true
   },
   "outputs": [],
   "source": [
    "numeros.insert(20, 20)"
   ]
  },
  {
   "cell_type": "code",
   "execution_count": 25,
   "metadata": {},
   "outputs": [
    {
     "data": {
      "text/plain": [
       "1"
      ]
     },
     "execution_count": 25,
     "metadata": {},
     "output_type": "execute_result"
    }
   ],
   "source": [
    "numeros.count(20)"
   ]
  },
  {
   "cell_type": "code",
   "execution_count": 27,
   "metadata": {
    "collapsed": true
   },
   "outputs": [],
   "source": [
    "numeros.remove(20)"
   ]
  },
  {
   "cell_type": "code",
   "execution_count": 29,
   "metadata": {
    "collapsed": true
   },
   "outputs": [],
   "source": [
    "numeros = numeros * 2"
   ]
  },
  {
   "cell_type": "code",
   "execution_count": 32,
   "metadata": {},
   "outputs": [
    {
     "data": {
      "text/plain": [
       "42"
      ]
     },
     "execution_count": 32,
     "metadata": {},
     "output_type": "execute_result"
    }
   ],
   "source": [
    "numeros.count(21)\n",
    "len(numeros)"
   ]
  },
  {
   "cell_type": "code",
   "execution_count": 33,
   "metadata": {},
   "outputs": [
    {
     "data": {
      "text/plain": [
       "41"
      ]
     },
     "execution_count": 33,
     "metadata": {},
     "output_type": "execute_result"
    }
   ],
   "source": [
    "numeros.remove(21)\n",
    "len(numeros)"
   ]
  },
  {
   "cell_type": "code",
   "execution_count": 43,
   "metadata": {
    "collapsed": true
   },
   "outputs": [],
   "source": [
    "numeros = list(range(30, 60))"
   ]
  },
  {
   "cell_type": "markdown",
   "metadata": {},
   "source": [
    "## Navegación en listas"
   ]
  },
  {
   "cell_type": "code",
   "execution_count": 47,
   "metadata": {},
   "outputs": [
    {
     "data": {
      "text/plain": [
       "str"
      ]
     },
     "execution_count": 47,
     "metadata": {},
     "output_type": "execute_result"
    }
   ],
   "source": [
    "type(str(numeros[0]))"
   ]
  },
  {
   "cell_type": "code",
   "execution_count": 48,
   "metadata": {},
   "outputs": [
    {
     "ename": "IndexError",
     "evalue": "list index out of range",
     "output_type": "error",
     "traceback": [
      "\u001b[0;31m---------------------------------------------------------------------------\u001b[0m",
      "\u001b[0;31mIndexError\u001b[0m                                Traceback (most recent call last)",
      "\u001b[0;32m<ipython-input-48-dc9878ba7cae>\u001b[0m in \u001b[0;36m<module>\u001b[0;34m()\u001b[0m\n\u001b[0;32m----> 1\u001b[0;31m \u001b[0mnumeros\u001b[0m\u001b[0;34m[\u001b[0m\u001b[0;36m100\u001b[0m\u001b[0;34m]\u001b[0m\u001b[0;34m\u001b[0m\u001b[0m\n\u001b[0m",
      "\u001b[0;31mIndexError\u001b[0m: list index out of range"
     ]
    }
   ],
   "source": [
    "numeros[100]"
   ]
  },
  {
   "cell_type": "code",
   "execution_count": 53,
   "metadata": {},
   "outputs": [
    {
     "data": {
      "text/plain": [
       "30"
      ]
     },
     "execution_count": 53,
     "metadata": {},
     "output_type": "execute_result"
    }
   ],
   "source": [
    "numeros[-1]"
   ]
  },
  {
   "cell_type": "code",
   "execution_count": 55,
   "metadata": {},
   "outputs": [
    {
     "data": {
      "text/plain": [
       "[32, 33, 34]"
      ]
     },
     "execution_count": 55,
     "metadata": {},
     "output_type": "execute_result"
    }
   ],
   "source": [
    "numeros[2:5]"
   ]
  },
  {
   "cell_type": "code",
   "execution_count": null,
   "metadata": {
    "collapsed": true
   },
   "outputs": [],
   "source": []
  },
  {
   "cell_type": "markdown",
   "metadata": {},
   "source": [
    "## List Comprehensions"
   ]
  },
  {
   "cell_type": "code",
   "execution_count": 56,
   "metadata": {
    "collapsed": true
   },
   "outputs": [],
   "source": [
    "numeros = list(range(10))"
   ]
  },
  {
   "cell_type": "code",
   "execution_count": 57,
   "metadata": {},
   "outputs": [
    {
     "data": {
      "text/plain": [
       "[0, 1, 2, 3, 4, 5, 6, 7, 8, 9]"
      ]
     },
     "execution_count": 57,
     "metadata": {},
     "output_type": "execute_result"
    }
   ],
   "source": [
    "numeros"
   ]
  },
  {
   "cell_type": "code",
   "execution_count": 58,
   "metadata": {
    "collapsed": true
   },
   "outputs": [],
   "source": [
    "numeros_actualizados = []\n",
    "\n",
    "for i in numeros:\n",
    "    if i % 2 == 0:\n",
    "        numeros_actualizados.append(i + 5)\n",
    "    else:\n",
    "        numeros_actualizados.append(i + 1)"
   ]
  },
  {
   "cell_type": "code",
   "execution_count": 59,
   "metadata": {},
   "outputs": [
    {
     "data": {
      "text/plain": [
       "[1, 2, 3, 4, 5, 6, 7, 8, 9, 10]"
      ]
     },
     "execution_count": 59,
     "metadata": {},
     "output_type": "execute_result"
    }
   ],
   "source": [
    "numeros_actualizados"
   ]
  },
  {
   "cell_type": "code",
   "execution_count": 60,
   "metadata": {
    "collapsed": true
   },
   "outputs": [],
   "source": [
    "numeros_actualizados_2 = [i + 5 if i % 2 == 0 else i + 1 for i in numeros]"
   ]
  },
  {
   "cell_type": "code",
   "execution_count": 61,
   "metadata": {},
   "outputs": [
    {
     "data": {
      "text/plain": [
       "[1, 2, 3, 4, 5, 6, 7, 8, 9, 10]"
      ]
     },
     "execution_count": 61,
     "metadata": {},
     "output_type": "execute_result"
    }
   ],
   "source": [
    "numeros_actualizados_2"
   ]
  },
  {
   "cell_type": "markdown",
   "metadata": {},
   "source": [
    "## Operaciones funcionales en listas"
   ]
  },
  {
   "cell_type": "code",
   "execution_count": null,
   "metadata": {
    "collapsed": true
   },
   "outputs": [],
   "source": [
    "sum_holder = 0\n",
    "for i in x:\n",
    "    sum_holder += i"
   ]
  },
  {
   "cell_type": "code",
   "execution_count": null,
   "metadata": {
    "collapsed": true
   },
   "outputs": [],
   "source": [
    "def promedio(x):\n",
    "    return sum(x) / len(x)"
   ]
  },
  {
   "cell_type": "code",
   "execution_count": 62,
   "metadata": {},
   "outputs": [
    {
     "data": {
      "text/plain": [
       "5.5"
      ]
     },
     "execution_count": 62,
     "metadata": {},
     "output_type": "execute_result"
    }
   ],
   "source": [
    "promedio=lambda x: sum(x)/len(x)\n",
    "promedio(numeros_actualizados)"
   ]
  },
  {
   "cell_type": "code",
   "execution_count": 64,
   "metadata": {},
   "outputs": [
    {
     "data": {
      "text/plain": [
       "[2, 3, 4, 5, 6, 7, 8, 9, 10, 11]"
      ]
     },
     "execution_count": 64,
     "metadata": {},
     "output_type": "execute_result"
    }
   ],
   "source": [
    "list(map(lambda x: x + 1, numeros_actualizados))"
   ]
  },
  {
   "cell_type": "code",
   "execution_count": 65,
   "metadata": {
    "collapsed": true
   },
   "outputs": [],
   "source": [
    "def sum_even(x):\n",
    "    if x % 2 == 0:\n",
    "        return x + 1"
   ]
  },
  {
   "cell_type": "code",
   "execution_count": 66,
   "metadata": {},
   "outputs": [
    {
     "data": {
      "text/plain": [
       "[None, 3, None, 5, None, 7, None, 9, None, 11]"
      ]
     },
     "execution_count": 66,
     "metadata": {},
     "output_type": "execute_result"
    }
   ],
   "source": [
    "list(map(sum_even, numeros_actualizados))"
   ]
  },
  {
   "cell_type": "code",
   "execution_count": 67,
   "metadata": {
    "collapsed": true
   },
   "outputs": [],
   "source": [
    "numeros_largos = list(range(1000, 10000))"
   ]
  },
  {
   "cell_type": "code",
   "execution_count": 69,
   "metadata": {},
   "outputs": [
    {
     "data": {
      "text/plain": [
       "[1000,\n",
       " 1100,\n",
       " 1200,\n",
       " 1300,\n",
       " 1400,\n",
       " 1500,\n",
       " 1600,\n",
       " 1700,\n",
       " 1800,\n",
       " 1900,\n",
       " 2000,\n",
       " 2100,\n",
       " 2200,\n",
       " 2300,\n",
       " 2400,\n",
       " 2500,\n",
       " 2600,\n",
       " 2700,\n",
       " 2800,\n",
       " 2900,\n",
       " 3000,\n",
       " 3100,\n",
       " 3200,\n",
       " 3300,\n",
       " 3400,\n",
       " 3500,\n",
       " 3600,\n",
       " 3700,\n",
       " 3800,\n",
       " 3900,\n",
       " 4000,\n",
       " 4100,\n",
       " 4200,\n",
       " 4300,\n",
       " 4400,\n",
       " 4500,\n",
       " 4600,\n",
       " 4700,\n",
       " 4800,\n",
       " 4900,\n",
       " 5000,\n",
       " 5100,\n",
       " 5200,\n",
       " 5300,\n",
       " 5400,\n",
       " 5500,\n",
       " 5600,\n",
       " 5700,\n",
       " 5800,\n",
       " 5900,\n",
       " 6000,\n",
       " 6100,\n",
       " 6200,\n",
       " 6300,\n",
       " 6400,\n",
       " 6500,\n",
       " 6600,\n",
       " 6700,\n",
       " 6800,\n",
       " 6900,\n",
       " 7000,\n",
       " 7100,\n",
       " 7200,\n",
       " 7300,\n",
       " 7400,\n",
       " 7500,\n",
       " 7600,\n",
       " 7700,\n",
       " 7800,\n",
       " 7900,\n",
       " 8000,\n",
       " 8100,\n",
       " 8200,\n",
       " 8300,\n",
       " 8400,\n",
       " 8500,\n",
       " 8600,\n",
       " 8700,\n",
       " 8800,\n",
       " 8900,\n",
       " 9000,\n",
       " 9100,\n",
       " 9200,\n",
       " 9300,\n",
       " 9400,\n",
       " 9500,\n",
       " 9600,\n",
       " 9700,\n",
       " 9800,\n",
       " 9900]"
      ]
     },
     "execution_count": 69,
     "metadata": {},
     "output_type": "execute_result"
    }
   ],
   "source": [
    "list(filter(lambda x: x % 100 == 0, numeros_largos))"
   ]
  },
  {
   "cell_type": "code",
   "execution_count": 70,
   "metadata": {
    "collapsed": true
   },
   "outputs": [],
   "source": [
    "from functools import reduce"
   ]
  },
  {
   "cell_type": "code",
   "execution_count": null,
   "metadata": {
    "collapsed": true
   },
   "outputs": [],
   "source": [
    "sum_holder = 0\n",
    "\n",
    "for i in numeros_largos:\n",
    "    sum_holder += i"
   ]
  },
  {
   "cell_type": "code",
   "execution_count": 71,
   "metadata": {},
   "outputs": [
    {
     "data": {
      "text/plain": [
       "49495500"
      ]
     },
     "execution_count": 71,
     "metadata": {},
     "output_type": "execute_result"
    }
   ],
   "source": [
    "reduce(lambda x, y: x + y, numeros_largos)"
   ]
  },
  {
   "cell_type": "code",
   "execution_count": 81,
   "metadata": {
    "collapsed": true
   },
   "outputs": [],
   "source": [
    "lista_1 = ['a','b','c']\n",
    "lista_2 = ['guau', 'miau', 'moo']\n",
    "lista_3 = [1, 2, 3]\n",
    "lista_4 = [True, False, True]"
   ]
  },
  {
   "cell_type": "code",
   "execution_count": 92,
   "metadata": {
    "collapsed": true
   },
   "outputs": [],
   "source": [
    "lista_anidada = [lista_1, lista_2, lista_3, lista_4]"
   ]
  },
  {
   "cell_type": "code",
   "execution_count": 78,
   "metadata": {},
   "outputs": [
    {
     "data": {
      "text/plain": [
       "list"
      ]
     },
     "execution_count": 78,
     "metadata": {},
     "output_type": "execute_result"
    }
   ],
   "source": [
    "type(lista_anidada)"
   ]
  },
  {
   "cell_type": "code",
   "execution_count": 94,
   "metadata": {},
   "outputs": [
    {
     "name": "stdout",
     "output_type": "stream",
     "text": [
      "Es booleano o string\n",
      "Es booleano o string\n",
      "Es booleano o string\n",
      "Es booleano o string\n",
      "Es booleano o string\n",
      "Es booleano o string\n",
      "es un número\n",
      "es un número\n",
      "es un número\n",
      "Es booleano o string\n",
      "Es booleano o string\n",
      "Es booleano o string\n"
     ]
    }
   ],
   "source": [
    "for i in lista_anidada:\n",
    "    for j in i:\n",
    "        if type(j) is str or type(j) is bool:\n",
    "            print(\"Es booleano o string\")\n",
    "        else:\n",
    "            print(\"es un número\")\n",
    "            "
   ]
  },
  {
   "cell_type": "markdown",
   "metadata": {},
   "source": [
    "# Pandas"
   ]
  },
  {
   "cell_type": "markdown",
   "metadata": {},
   "source": [
    "* Para instalar una librería de Python (en este caso pandas), en el terminal!\n",
    "\n",
    "```bash\n",
    "pip install pandas\n",
    "```\n",
    "\n",
    "### Primer paso: importar y leer (o ingestar) un archivo"
   ]
  },
  {
   "cell_type": "code",
   "execution_count": 95,
   "metadata": {
    "collapsed": true
   },
   "outputs": [],
   "source": [
    "import pandas as pd"
   ]
  },
  {
   "cell_type": "code",
   "execution_count": 97,
   "metadata": {
    "collapsed": true
   },
   "outputs": [],
   "source": [
    "df = pd.read_csv('nations.csv')"
   ]
  },
  {
   "cell_type": "code",
   "execution_count": 99,
   "metadata": {},
   "outputs": [
    {
     "data": {
      "text/plain": [
       "(194, 14)"
      ]
     },
     "execution_count": 99,
     "metadata": {},
     "output_type": "execute_result"
    }
   ],
   "source": [
    "df.shape"
   ]
  },
  {
   "cell_type": "markdown",
   "metadata": {},
   "source": [
    "### Importando una base desde  SQL"
   ]
  },
  {
   "cell_type": "code",
   "execution_count": 100,
   "metadata": {
    "collapsed": true
   },
   "outputs": [],
   "source": [
    "import sqlalchemy"
   ]
  },
  {
   "cell_type": "code",
   "execution_count": null,
   "metadata": {
    "collapsed": true
   },
   "outputs": [],
   "source": [
    "# engine = sqlalchemy.create_engine(\"AgregarUusuario, conexión y contraseña\")"
   ]
  },
  {
   "cell_type": "code",
   "execution_count": null,
   "metadata": {
    "collapsed": true
   },
   "outputs": [],
   "source": [
    "# df = pd.read_sql_query()"
   ]
  },
  {
   "cell_type": "code",
   "execution_count": null,
   "metadata": {
    "collapsed": true
   },
   "outputs": [],
   "source": []
  },
  {
   "cell_type": "markdown",
   "metadata": {},
   "source": [
    "## Estructuras básicas de Pandas"
   ]
  },
  {
   "cell_type": "markdown",
   "metadata": {},
   "source": [
    "### DataFrame"
   ]
  },
  {
   "cell_type": "code",
   "execution_count": 103,
   "metadata": {},
   "outputs": [
    {
     "data": {
      "text/html": [
       "<div>\n",
       "<style scoped>\n",
       "    .dataframe tbody tr th:only-of-type {\n",
       "        vertical-align: middle;\n",
       "    }\n",
       "\n",
       "    .dataframe tbody tr th {\n",
       "        vertical-align: top;\n",
       "    }\n",
       "\n",
       "    .dataframe thead th {\n",
       "        text-align: right;\n",
       "    }\n",
       "</style>\n",
       "<table border=\"1\" class=\"dataframe\">\n",
       "  <thead>\n",
       "    <tr style=\"text-align: right;\">\n",
       "      <th></th>\n",
       "      <th>Unnamed: 0</th>\n",
       "      <th>country</th>\n",
       "      <th>region</th>\n",
       "      <th>gdp</th>\n",
       "      <th>school</th>\n",
       "      <th>adfert</th>\n",
       "      <th>chldmort</th>\n",
       "      <th>life</th>\n",
       "      <th>pop</th>\n",
       "      <th>urban</th>\n",
       "      <th>femlab</th>\n",
       "      <th>literacy</th>\n",
       "      <th>co2</th>\n",
       "      <th>gini</th>\n",
       "    </tr>\n",
       "  </thead>\n",
       "  <tbody>\n",
       "    <tr>\n",
       "      <th>0</th>\n",
       "      <td>1</td>\n",
       "      <td>Algeria</td>\n",
       "      <td>Africa</td>\n",
       "      <td>7300.399902</td>\n",
       "      <td>6.716667</td>\n",
       "      <td>7.300000</td>\n",
       "      <td>34.75</td>\n",
       "      <td>72.316666</td>\n",
       "      <td>34172236</td>\n",
       "      <td>64.933334</td>\n",
       "      <td>0.4522</td>\n",
       "      <td>72.599998</td>\n",
       "      <td>15.0</td>\n",
       "      <td>NaN</td>\n",
       "    </tr>\n",
       "    <tr>\n",
       "      <th>1</th>\n",
       "      <td>2</td>\n",
       "      <td>Benin</td>\n",
       "      <td>Africa</td>\n",
       "      <td>1338.800049</td>\n",
       "      <td>3.100000</td>\n",
       "      <td>111.699997</td>\n",
       "      <td>122.75</td>\n",
       "      <td>54.733334</td>\n",
       "      <td>8237634</td>\n",
       "      <td>41.000000</td>\n",
       "      <td>0.8482</td>\n",
       "      <td>41.700001</td>\n",
       "      <td>1.2</td>\n",
       "      <td>NaN</td>\n",
       "    </tr>\n",
       "  </tbody>\n",
       "</table>\n",
       "</div>"
      ],
      "text/plain": [
       "   Unnamed: 0  country  region          gdp    school      adfert  chldmort  \\\n",
       "0           1  Algeria  Africa  7300.399902  6.716667    7.300000     34.75   \n",
       "1           2    Benin  Africa  1338.800049  3.100000  111.699997    122.75   \n",
       "\n",
       "        life       pop      urban  femlab   literacy   co2  gini  \n",
       "0  72.316666  34172236  64.933334  0.4522  72.599998  15.0   NaN  \n",
       "1  54.733334   8237634  41.000000  0.8482  41.700001   1.2   NaN  "
      ]
     },
     "execution_count": 103,
     "metadata": {},
     "output_type": "execute_result"
    }
   ],
   "source": [
    "df.head(2)"
   ]
  },
  {
   "cell_type": "code",
   "execution_count": 104,
   "metadata": {
    "collapsed": true
   },
   "outputs": [],
   "source": [
    "df = df.drop(columns='Unnamed: 0')"
   ]
  },
  {
   "cell_type": "code",
   "execution_count": 105,
   "metadata": {},
   "outputs": [
    {
     "data": {
      "text/plain": [
       "Index(['country', 'region', 'gdp', 'school', 'adfert', 'chldmort', 'life',\n",
       "       'pop', 'urban', 'femlab', 'literacy', 'co2', 'gini'],\n",
       "      dtype='object')"
      ]
     },
     "execution_count": 105,
     "metadata": {},
     "output_type": "execute_result"
    }
   ],
   "source": [
    "df.columns"
   ]
  },
  {
   "cell_type": "code",
   "execution_count": 106,
   "metadata": {},
   "outputs": [
    {
     "data": {
      "text/plain": [
       "RangeIndex(start=0, stop=194, step=1)"
      ]
     },
     "execution_count": 106,
     "metadata": {},
     "output_type": "execute_result"
    }
   ],
   "source": [
    "df.index"
   ]
  },
  {
   "cell_type": "markdown",
   "metadata": {},
   "source": [
    "### Series"
   ]
  },
  {
   "cell_type": "code",
   "execution_count": 111,
   "metadata": {},
   "outputs": [
    {
     "data": {
      "text/plain": [
       "pandas.core.series.Series"
      ]
     },
     "execution_count": 111,
     "metadata": {},
     "output_type": "execute_result"
    }
   ],
   "source": [
    "type(df['region'])"
   ]
  },
  {
   "cell_type": "code",
   "execution_count": 122,
   "metadata": {},
   "outputs": [
    {
     "data": {
      "text/plain": [
       "numpy.int64"
      ]
     },
     "execution_count": 122,
     "metadata": {},
     "output_type": "execute_result"
    }
   ],
   "source": [
    "df['region'].value_counts().max()"
   ]
  },
  {
   "cell_type": "code",
   "execution_count": 126,
   "metadata": {
    "collapsed": true
   },
   "outputs": [],
   "source": [
    "mean_femlab = df['femlab'].mean()"
   ]
  },
  {
   "cell_type": "code",
   "execution_count": 131,
   "metadata": {},
   "outputs": [
    {
     "data": {
      "text/plain": [
       "0      False\n",
       "1       True\n",
       "2       True\n",
       "3       True\n",
       "4       True\n",
       "5      False\n",
       "6      False\n",
       "7       True\n",
       "8       True\n",
       "9       True\n",
       "10      True\n",
       "11     False\n",
       "12     False\n",
       "13      True\n",
       "14     False\n",
       "15     False\n",
       "16      True\n",
       "17      True\n",
       "18      True\n",
       "19      True\n",
       "20      True\n",
       "21      True\n",
       "22      True\n",
       "23      True\n",
       "24      True\n",
       "25      True\n",
       "26     False\n",
       "27      True\n",
       "28      True\n",
       "29     False\n",
       "       ...  \n",
       "164     True\n",
       "165     True\n",
       "166     True\n",
       "167     True\n",
       "168     True\n",
       "169     True\n",
       "170    False\n",
       "171    False\n",
       "172     True\n",
       "173     True\n",
       "174     True\n",
       "175     True\n",
       "176     True\n",
       "177     True\n",
       "178     True\n",
       "179     True\n",
       "180     True\n",
       "181    False\n",
       "182    False\n",
       "183    False\n",
       "184    False\n",
       "185    False\n",
       "186     True\n",
       "187    False\n",
       "188     True\n",
       "189    False\n",
       "190    False\n",
       "191     True\n",
       "192    False\n",
       "193     True\n",
       "Name: femlab, Length: 194, dtype: bool"
      ]
     },
     "execution_count": 131,
     "metadata": {},
     "output_type": "execute_result"
    }
   ],
   "source": [
    "df['femlab'] > mean_femlab"
   ]
  },
  {
   "cell_type": "code",
   "execution_count": 130,
   "metadata": {
    "collapsed": true
   },
   "outputs": [],
   "source": [
    "africa_df = df[df['region'] == 'Africa']"
   ]
  },
  {
   "cell_type": "code",
   "execution_count": 132,
   "metadata": {},
   "outputs": [
    {
     "data": {
      "text/html": [
       "<div>\n",
       "<style scoped>\n",
       "    .dataframe tbody tr th:only-of-type {\n",
       "        vertical-align: middle;\n",
       "    }\n",
       "\n",
       "    .dataframe tbody tr th {\n",
       "        vertical-align: top;\n",
       "    }\n",
       "\n",
       "    .dataframe thead th {\n",
       "        text-align: right;\n",
       "    }\n",
       "</style>\n",
       "<table border=\"1\" class=\"dataframe\">\n",
       "  <thead>\n",
       "    <tr style=\"text-align: right;\">\n",
       "      <th></th>\n",
       "      <th>country</th>\n",
       "      <th>region</th>\n",
       "      <th>gdp</th>\n",
       "      <th>school</th>\n",
       "      <th>adfert</th>\n",
       "      <th>chldmort</th>\n",
       "      <th>life</th>\n",
       "      <th>pop</th>\n",
       "      <th>urban</th>\n",
       "      <th>femlab</th>\n",
       "      <th>literacy</th>\n",
       "      <th>co2</th>\n",
       "      <th>gini</th>\n",
       "    </tr>\n",
       "  </thead>\n",
       "  <tbody>\n",
       "    <tr>\n",
       "      <th>1</th>\n",
       "      <td>Benin</td>\n",
       "      <td>Africa</td>\n",
       "      <td>1338.800049</td>\n",
       "      <td>3.100000</td>\n",
       "      <td>111.699997</td>\n",
       "      <td>122.75</td>\n",
       "      <td>54.733334</td>\n",
       "      <td>8237634</td>\n",
       "      <td>41.000000</td>\n",
       "      <td>0.8482</td>\n",
       "      <td>41.700001</td>\n",
       "      <td>1.20</td>\n",
       "      <td>NaN</td>\n",
       "    </tr>\n",
       "    <tr>\n",
       "      <th>2</th>\n",
       "      <td>Botswana</td>\n",
       "      <td>Africa</td>\n",
       "      <td>12307.400391</td>\n",
       "      <td>8.600000</td>\n",
       "      <td>52.099998</td>\n",
       "      <td>60.25</td>\n",
       "      <td>52.250000</td>\n",
       "      <td>1941233</td>\n",
       "      <td>59.250000</td>\n",
       "      <td>0.8870</td>\n",
       "      <td>84.099998</td>\n",
       "      <td>9.20</td>\n",
       "      <td>NaN</td>\n",
       "    </tr>\n",
       "    <tr>\n",
       "      <th>3</th>\n",
       "      <td>Burkina Faso</td>\n",
       "      <td>Africa</td>\n",
       "      <td>1063.400024</td>\n",
       "      <td>1.300000</td>\n",
       "      <td>124.800003</td>\n",
       "      <td>170.50</td>\n",
       "      <td>53.783333</td>\n",
       "      <td>15308383</td>\n",
       "      <td>23.583334</td>\n",
       "      <td>0.8584</td>\n",
       "      <td>23.600000</td>\n",
       "      <td>0.20</td>\n",
       "      <td>NaN</td>\n",
       "    </tr>\n",
       "    <tr>\n",
       "      <th>4</th>\n",
       "      <td>Burundi</td>\n",
       "      <td>Africa</td>\n",
       "      <td>349.200012</td>\n",
       "      <td>2.483333</td>\n",
       "      <td>18.600000</td>\n",
       "      <td>168.50</td>\n",
       "      <td>48.866665</td>\n",
       "      <td>7821783</td>\n",
       "      <td>10.250000</td>\n",
       "      <td>1.0344</td>\n",
       "      <td>66.599998</td>\n",
       "      <td>0.10</td>\n",
       "      <td>33.299999</td>\n",
       "    </tr>\n",
       "    <tr>\n",
       "      <th>7</th>\n",
       "      <td>Central African Rep</td>\n",
       "      <td>Africa</td>\n",
       "      <td>677.000000</td>\n",
       "      <td>3.383333</td>\n",
       "      <td>106.599998</td>\n",
       "      <td>173.50</td>\n",
       "      <td>45.933334</td>\n",
       "      <td>4203917</td>\n",
       "      <td>38.466667</td>\n",
       "      <td>0.8222</td>\n",
       "      <td>55.200001</td>\n",
       "      <td>0.20</td>\n",
       "      <td>NaN</td>\n",
       "    </tr>\n",
       "    <tr>\n",
       "      <th>8</th>\n",
       "      <td>Chad</td>\n",
       "      <td>Africa</td>\n",
       "      <td>1266.199951</td>\n",
       "      <td>1.500000</td>\n",
       "      <td>164.500000</td>\n",
       "      <td>209.00</td>\n",
       "      <td>48.566666</td>\n",
       "      <td>10509983</td>\n",
       "      <td>26.400000</td>\n",
       "      <td>0.8006</td>\n",
       "      <td>33.599998</td>\n",
       "      <td>0.10</td>\n",
       "      <td>NaN</td>\n",
       "    </tr>\n",
       "    <tr>\n",
       "      <th>9</th>\n",
       "      <td>Comoros</td>\n",
       "      <td>Africa</td>\n",
       "      <td>1099.000000</td>\n",
       "      <td>2.800000</td>\n",
       "      <td>58.000000</td>\n",
       "      <td>105.75</td>\n",
       "      <td>59.783333</td>\n",
       "      <td>688300</td>\n",
       "      <td>28.000000</td>\n",
       "      <td>0.8554</td>\n",
       "      <td>74.199997</td>\n",
       "      <td>0.40</td>\n",
       "      <td>NaN</td>\n",
       "    </tr>\n",
       "    <tr>\n",
       "      <th>10</th>\n",
       "      <td>Congo</td>\n",
       "      <td>Africa</td>\n",
       "      <td>3628.000000</td>\n",
       "      <td>5.850000</td>\n",
       "      <td>118.699997</td>\n",
       "      <td>125.75</td>\n",
       "      <td>56.016666</td>\n",
       "      <td>3785517</td>\n",
       "      <td>61.133331</td>\n",
       "      <td>0.7544</td>\n",
       "      <td>NaN</td>\n",
       "      <td>1.55</td>\n",
       "      <td>47.299999</td>\n",
       "    </tr>\n",
       "    <tr>\n",
       "      <th>13</th>\n",
       "      <td>Djibouti</td>\n",
       "      <td>Africa</td>\n",
       "      <td>1972.199951</td>\n",
       "      <td>3.800000</td>\n",
       "      <td>22.900000</td>\n",
       "      <td>96.00</td>\n",
       "      <td>56.599998</td>\n",
       "      <td>848000</td>\n",
       "      <td>76.099998</td>\n",
       "      <td>0.7636</td>\n",
       "      <td>NaN</td>\n",
       "      <td>2.20</td>\n",
       "      <td>NaN</td>\n",
       "    </tr>\n",
       "    <tr>\n",
       "      <th>16</th>\n",
       "      <td>Eritrea</td>\n",
       "      <td>Africa</td>\n",
       "      <td>579.599976</td>\n",
       "      <td>3.400000</td>\n",
       "      <td>66.599998</td>\n",
       "      <td>60.50</td>\n",
       "      <td>60.016666</td>\n",
       "      <td>4871634</td>\n",
       "      <td>20.450001</td>\n",
       "      <td>0.7252</td>\n",
       "      <td>66.599998</td>\n",
       "      <td>0.50</td>\n",
       "      <td>NaN</td>\n",
       "    </tr>\n",
       "    <tr>\n",
       "      <th>17</th>\n",
       "      <td>Ethiopia</td>\n",
       "      <td>Africa</td>\n",
       "      <td>741.400024</td>\n",
       "      <td>1.500000</td>\n",
       "      <td>72.400002</td>\n",
       "      <td>112.00</td>\n",
       "      <td>57.049999</td>\n",
       "      <td>78593232</td>\n",
       "      <td>16.283333</td>\n",
       "      <td>0.8700</td>\n",
       "      <td>29.799999</td>\n",
       "      <td>0.30</td>\n",
       "      <td>29.799999</td>\n",
       "    </tr>\n",
       "    <tr>\n",
       "      <th>18</th>\n",
       "      <td>Gabon</td>\n",
       "      <td>Africa</td>\n",
       "      <td>13183.200195</td>\n",
       "      <td>7.183333</td>\n",
       "      <td>89.900002</td>\n",
       "      <td>72.50</td>\n",
       "      <td>61.150002</td>\n",
       "      <td>1437467</td>\n",
       "      <td>84.883331</td>\n",
       "      <td>0.8404</td>\n",
       "      <td>87.699997</td>\n",
       "      <td>5.55</td>\n",
       "      <td>41.500000</td>\n",
       "    </tr>\n",
       "    <tr>\n",
       "      <th>19</th>\n",
       "      <td>Gambia</td>\n",
       "      <td>Africa</td>\n",
       "      <td>1218.400024</td>\n",
       "      <td>2.550000</td>\n",
       "      <td>76.599998</td>\n",
       "      <td>108.25</td>\n",
       "      <td>57.366669</td>\n",
       "      <td>1614767</td>\n",
       "      <td>56.049999</td>\n",
       "      <td>0.8264</td>\n",
       "      <td>46.500000</td>\n",
       "      <td>0.70</td>\n",
       "      <td>NaN</td>\n",
       "    </tr>\n",
       "    <tr>\n",
       "      <th>20</th>\n",
       "      <td>Ghana</td>\n",
       "      <td>Africa</td>\n",
       "      <td>1303.000000</td>\n",
       "      <td>6.783333</td>\n",
       "      <td>71.099998</td>\n",
       "      <td>75.25</td>\n",
       "      <td>62.516666</td>\n",
       "      <td>23000534</td>\n",
       "      <td>49.633331</td>\n",
       "      <td>0.9770</td>\n",
       "      <td>66.599998</td>\n",
       "      <td>1.35</td>\n",
       "      <td>42.799999</td>\n",
       "    </tr>\n",
       "    <tr>\n",
       "      <th>21</th>\n",
       "      <td>Guinea</td>\n",
       "      <td>Africa</td>\n",
       "      <td>957.599976</td>\n",
       "      <td>1.600000</td>\n",
       "      <td>157.399994</td>\n",
       "      <td>149.50</td>\n",
       "      <td>52.416668</td>\n",
       "      <td>9486467</td>\n",
       "      <td>34.166668</td>\n",
       "      <td>0.8850</td>\n",
       "      <td>39.500000</td>\n",
       "      <td>0.55</td>\n",
       "      <td>39.400002</td>\n",
       "    </tr>\n",
       "    <tr>\n",
       "      <th>22</th>\n",
       "      <td>Guinea-Bissau</td>\n",
       "      <td>Africa</td>\n",
       "      <td>967.599976</td>\n",
       "      <td>2.300000</td>\n",
       "      <td>111.099998</td>\n",
       "      <td>197.50</td>\n",
       "      <td>46.866669</td>\n",
       "      <td>1440083</td>\n",
       "      <td>29.766666</td>\n",
       "      <td>0.7114</td>\n",
       "      <td>52.200001</td>\n",
       "      <td>0.60</td>\n",
       "      <td>NaN</td>\n",
       "    </tr>\n",
       "    <tr>\n",
       "      <th>23</th>\n",
       "      <td>Kenya</td>\n",
       "      <td>Africa</td>\n",
       "      <td>1405.400024</td>\n",
       "      <td>6.750000</td>\n",
       "      <td>100.199997</td>\n",
       "      <td>87.75</td>\n",
       "      <td>54.816666</td>\n",
       "      <td>38011832</td>\n",
       "      <td>21.450001</td>\n",
       "      <td>0.8626</td>\n",
       "      <td>87.000000</td>\n",
       "      <td>1.15</td>\n",
       "      <td>47.700001</td>\n",
       "    </tr>\n",
       "    <tr>\n",
       "      <th>24</th>\n",
       "      <td>Lesotho</td>\n",
       "      <td>Africa</td>\n",
       "      <td>1284.400024</td>\n",
       "      <td>5.583333</td>\n",
       "      <td>73.500000</td>\n",
       "      <td>98.25</td>\n",
       "      <td>45.849998</td>\n",
       "      <td>2117567</td>\n",
       "      <td>25.066666</td>\n",
       "      <td>0.8990</td>\n",
       "      <td>89.699997</td>\n",
       "      <td>NaN</td>\n",
       "      <td>NaN</td>\n",
       "    </tr>\n",
       "    <tr>\n",
       "      <th>25</th>\n",
       "      <td>Liberia</td>\n",
       "      <td>Africa</td>\n",
       "      <td>345.000000</td>\n",
       "      <td>3.650000</td>\n",
       "      <td>142.600006</td>\n",
       "      <td>125.50</td>\n",
       "      <td>54.233334</td>\n",
       "      <td>3576984</td>\n",
       "      <td>46.916668</td>\n",
       "      <td>0.8746</td>\n",
       "      <td>59.099998</td>\n",
       "      <td>0.80</td>\n",
       "      <td>52.599998</td>\n",
       "    </tr>\n",
       "    <tr>\n",
       "      <th>27</th>\n",
       "      <td>Madagascar</td>\n",
       "      <td>Africa</td>\n",
       "      <td>919.799988</td>\n",
       "      <td>5.200000</td>\n",
       "      <td>134.300003</td>\n",
       "      <td>64.50</td>\n",
       "      <td>65.483337</td>\n",
       "      <td>19279600</td>\n",
       "      <td>29.316666</td>\n",
       "      <td>0.9466</td>\n",
       "      <td>64.500000</td>\n",
       "      <td>0.55</td>\n",
       "      <td>47.200001</td>\n",
       "    </tr>\n",
       "    <tr>\n",
       "      <th>28</th>\n",
       "      <td>Malawi</td>\n",
       "      <td>Africa</td>\n",
       "      <td>660.400024</td>\n",
       "      <td>3.816667</td>\n",
       "      <td>119.199997</td>\n",
       "      <td>120.25</td>\n",
       "      <td>51.316666</td>\n",
       "      <td>13825916</td>\n",
       "      <td>18.549999</td>\n",
       "      <td>0.9520</td>\n",
       "      <td>73.699997</td>\n",
       "      <td>0.30</td>\n",
       "      <td>NaN</td>\n",
       "    </tr>\n",
       "    <tr>\n",
       "      <th>30</th>\n",
       "      <td>Mauritania</td>\n",
       "      <td>Africa</td>\n",
       "      <td>1794.199951</td>\n",
       "      <td>3.533333</td>\n",
       "      <td>79.199997</td>\n",
       "      <td>118.00</td>\n",
       "      <td>57.700001</td>\n",
       "      <td>3253767</td>\n",
       "      <td>40.866669</td>\n",
       "      <td>0.7168</td>\n",
       "      <td>57.500000</td>\n",
       "      <td>2.00</td>\n",
       "      <td>NaN</td>\n",
       "    </tr>\n",
       "    <tr>\n",
       "      <th>33</th>\n",
       "      <td>Mozambique</td>\n",
       "      <td>Africa</td>\n",
       "      <td>738.599976</td>\n",
       "      <td>1.150000</td>\n",
       "      <td>149.199997</td>\n",
       "      <td>150.75</td>\n",
       "      <td>48.866665</td>\n",
       "      <td>22075768</td>\n",
       "      <td>36.466667</td>\n",
       "      <td>0.9770</td>\n",
       "      <td>55.099998</td>\n",
       "      <td>0.35</td>\n",
       "      <td>45.599998</td>\n",
       "    </tr>\n",
       "    <tr>\n",
       "      <th>34</th>\n",
       "      <td>Namibia</td>\n",
       "      <td>Africa</td>\n",
       "      <td>5740.200195</td>\n",
       "      <td>7.200000</td>\n",
       "      <td>74.400002</td>\n",
       "      <td>53.25</td>\n",
       "      <td>60.583332</td>\n",
       "      <td>2180583</td>\n",
       "      <td>36.516666</td>\n",
       "      <td>0.8184</td>\n",
       "      <td>88.500000</td>\n",
       "      <td>5.00</td>\n",
       "      <td>NaN</td>\n",
       "    </tr>\n",
       "    <tr>\n",
       "      <th>37</th>\n",
       "      <td>Rwanda</td>\n",
       "      <td>Africa</td>\n",
       "      <td>954.000000</td>\n",
       "      <td>3.050000</td>\n",
       "      <td>38.700001</td>\n",
       "      <td>122.50</td>\n",
       "      <td>53.849998</td>\n",
       "      <td>9882167</td>\n",
       "      <td>18.183332</td>\n",
       "      <td>1.0156</td>\n",
       "      <td>70.699997</td>\n",
       "      <td>0.30</td>\n",
       "      <td>53.099998</td>\n",
       "    </tr>\n",
       "    <tr>\n",
       "      <th>39</th>\n",
       "      <td>Senegal</td>\n",
       "      <td>Africa</td>\n",
       "      <td>1635.599976</td>\n",
       "      <td>4.250000</td>\n",
       "      <td>105.900002</td>\n",
       "      <td>97.50</td>\n",
       "      <td>58.183334</td>\n",
       "      <td>11640634</td>\n",
       "      <td>41.716667</td>\n",
       "      <td>0.7244</td>\n",
       "      <td>45.800003</td>\n",
       "      <td>1.50</td>\n",
       "      <td>39.200001</td>\n",
       "    </tr>\n",
       "    <tr>\n",
       "      <th>41</th>\n",
       "      <td>Sierra Leone</td>\n",
       "      <td>Africa</td>\n",
       "      <td>698.200012</td>\n",
       "      <td>2.733333</td>\n",
       "      <td>143.699997</td>\n",
       "      <td>202.50</td>\n",
       "      <td>46.000000</td>\n",
       "      <td>5529667</td>\n",
       "      <td>37.566666</td>\n",
       "      <td>0.9760</td>\n",
       "      <td>40.900002</td>\n",
       "      <td>0.65</td>\n",
       "      <td>NaN</td>\n",
       "    </tr>\n",
       "    <tr>\n",
       "      <th>43</th>\n",
       "      <td>South Africa</td>\n",
       "      <td>Africa</td>\n",
       "      <td>9175.400391</td>\n",
       "      <td>8.350000</td>\n",
       "      <td>59.200001</td>\n",
       "      <td>68.75</td>\n",
       "      <td>51.433334</td>\n",
       "      <td>49028316</td>\n",
       "      <td>60.483334</td>\n",
       "      <td>0.7406</td>\n",
       "      <td>NaN</td>\n",
       "      <td>31.40</td>\n",
       "      <td>NaN</td>\n",
       "    </tr>\n",
       "    <tr>\n",
       "      <th>46</th>\n",
       "      <td>Tanzania</td>\n",
       "      <td>Africa</td>\n",
       "      <td>1151.800049</td>\n",
       "      <td>4.933333</td>\n",
       "      <td>130.399994</td>\n",
       "      <td>114.50</td>\n",
       "      <td>55.400002</td>\n",
       "      <td>41742736</td>\n",
       "      <td>25.266666</td>\n",
       "      <td>0.9544</td>\n",
       "      <td>72.900002</td>\n",
       "      <td>0.50</td>\n",
       "      <td>37.599998</td>\n",
       "    </tr>\n",
       "    <tr>\n",
       "      <th>47</th>\n",
       "      <td>Togo</td>\n",
       "      <td>Africa</td>\n",
       "      <td>775.000000</td>\n",
       "      <td>5.050000</td>\n",
       "      <td>65.300003</td>\n",
       "      <td>102.50</td>\n",
       "      <td>55.866669</td>\n",
       "      <td>5716200</td>\n",
       "      <td>41.650002</td>\n",
       "      <td>0.7318</td>\n",
       "      <td>56.900002</td>\n",
       "      <td>0.75</td>\n",
       "      <td>34.400002</td>\n",
       "    </tr>\n",
       "    <tr>\n",
       "      <th>49</th>\n",
       "      <td>Uganda</td>\n",
       "      <td>Africa</td>\n",
       "      <td>1010.599976</td>\n",
       "      <td>4.500000</td>\n",
       "      <td>149.899994</td>\n",
       "      <td>132.50</td>\n",
       "      <td>52.049999</td>\n",
       "      <td>30878900</td>\n",
       "      <td>12.900000</td>\n",
       "      <td>0.8650</td>\n",
       "      <td>71.400002</td>\n",
       "      <td>0.30</td>\n",
       "      <td>44.299999</td>\n",
       "    </tr>\n",
       "    <tr>\n",
       "      <th>50</th>\n",
       "      <td>Zambia</td>\n",
       "      <td>Africa</td>\n",
       "      <td>1211.599976</td>\n",
       "      <td>6.400000</td>\n",
       "      <td>146.800003</td>\n",
       "      <td>147.75</td>\n",
       "      <td>46.599998</td>\n",
       "      <td>12243300</td>\n",
       "      <td>35.316666</td>\n",
       "      <td>0.7628</td>\n",
       "      <td>70.900002</td>\n",
       "      <td>0.80</td>\n",
       "      <td>NaN</td>\n",
       "    </tr>\n",
       "    <tr>\n",
       "      <th>51</th>\n",
       "      <td>Zimbabwe</td>\n",
       "      <td>Africa</td>\n",
       "      <td>NaN</td>\n",
       "      <td>6.950000</td>\n",
       "      <td>64.599998</td>\n",
       "      <td>96.00</td>\n",
       "      <td>46.750000</td>\n",
       "      <td>12513100</td>\n",
       "      <td>37.066666</td>\n",
       "      <td>0.8120</td>\n",
       "      <td>91.900002</td>\n",
       "      <td>3.15</td>\n",
       "      <td>NaN</td>\n",
       "    </tr>\n",
       "  </tbody>\n",
       "</table>\n",
       "</div>"
      ],
      "text/plain": [
       "                country  region           gdp    school      adfert  chldmort  \\\n",
       "1                 Benin  Africa   1338.800049  3.100000  111.699997    122.75   \n",
       "2              Botswana  Africa  12307.400391  8.600000   52.099998     60.25   \n",
       "3          Burkina Faso  Africa   1063.400024  1.300000  124.800003    170.50   \n",
       "4               Burundi  Africa    349.200012  2.483333   18.600000    168.50   \n",
       "7   Central African Rep  Africa    677.000000  3.383333  106.599998    173.50   \n",
       "8                  Chad  Africa   1266.199951  1.500000  164.500000    209.00   \n",
       "9               Comoros  Africa   1099.000000  2.800000   58.000000    105.75   \n",
       "10                Congo  Africa   3628.000000  5.850000  118.699997    125.75   \n",
       "13             Djibouti  Africa   1972.199951  3.800000   22.900000     96.00   \n",
       "16              Eritrea  Africa    579.599976  3.400000   66.599998     60.50   \n",
       "17             Ethiopia  Africa    741.400024  1.500000   72.400002    112.00   \n",
       "18                Gabon  Africa  13183.200195  7.183333   89.900002     72.50   \n",
       "19               Gambia  Africa   1218.400024  2.550000   76.599998    108.25   \n",
       "20                Ghana  Africa   1303.000000  6.783333   71.099998     75.25   \n",
       "21               Guinea  Africa    957.599976  1.600000  157.399994    149.50   \n",
       "22        Guinea-Bissau  Africa    967.599976  2.300000  111.099998    197.50   \n",
       "23                Kenya  Africa   1405.400024  6.750000  100.199997     87.75   \n",
       "24              Lesotho  Africa   1284.400024  5.583333   73.500000     98.25   \n",
       "25              Liberia  Africa    345.000000  3.650000  142.600006    125.50   \n",
       "27           Madagascar  Africa    919.799988  5.200000  134.300003     64.50   \n",
       "28               Malawi  Africa    660.400024  3.816667  119.199997    120.25   \n",
       "30           Mauritania  Africa   1794.199951  3.533333   79.199997    118.00   \n",
       "33           Mozambique  Africa    738.599976  1.150000  149.199997    150.75   \n",
       "34              Namibia  Africa   5740.200195  7.200000   74.400002     53.25   \n",
       "37               Rwanda  Africa    954.000000  3.050000   38.700001    122.50   \n",
       "39              Senegal  Africa   1635.599976  4.250000  105.900002     97.50   \n",
       "41         Sierra Leone  Africa    698.200012  2.733333  143.699997    202.50   \n",
       "43         South Africa  Africa   9175.400391  8.350000   59.200001     68.75   \n",
       "46             Tanzania  Africa   1151.800049  4.933333  130.399994    114.50   \n",
       "47                 Togo  Africa    775.000000  5.050000   65.300003    102.50   \n",
       "49               Uganda  Africa   1010.599976  4.500000  149.899994    132.50   \n",
       "50               Zambia  Africa   1211.599976  6.400000  146.800003    147.75   \n",
       "51             Zimbabwe  Africa           NaN  6.950000   64.599998     96.00   \n",
       "\n",
       "         life       pop      urban  femlab   literacy    co2       gini  \n",
       "1   54.733334   8237634  41.000000  0.8482  41.700001   1.20        NaN  \n",
       "2   52.250000   1941233  59.250000  0.8870  84.099998   9.20        NaN  \n",
       "3   53.783333  15308383  23.583334  0.8584  23.600000   0.20        NaN  \n",
       "4   48.866665   7821783  10.250000  1.0344  66.599998   0.10  33.299999  \n",
       "7   45.933334   4203917  38.466667  0.8222  55.200001   0.20        NaN  \n",
       "8   48.566666  10509983  26.400000  0.8006  33.599998   0.10        NaN  \n",
       "9   59.783333    688300  28.000000  0.8554  74.199997   0.40        NaN  \n",
       "10  56.016666   3785517  61.133331  0.7544        NaN   1.55  47.299999  \n",
       "13  56.599998    848000  76.099998  0.7636        NaN   2.20        NaN  \n",
       "16  60.016666   4871634  20.450001  0.7252  66.599998   0.50        NaN  \n",
       "17  57.049999  78593232  16.283333  0.8700  29.799999   0.30  29.799999  \n",
       "18  61.150002   1437467  84.883331  0.8404  87.699997   5.55  41.500000  \n",
       "19  57.366669   1614767  56.049999  0.8264  46.500000   0.70        NaN  \n",
       "20  62.516666  23000534  49.633331  0.9770  66.599998   1.35  42.799999  \n",
       "21  52.416668   9486467  34.166668  0.8850  39.500000   0.55  39.400002  \n",
       "22  46.866669   1440083  29.766666  0.7114  52.200001   0.60        NaN  \n",
       "23  54.816666  38011832  21.450001  0.8626  87.000000   1.15  47.700001  \n",
       "24  45.849998   2117567  25.066666  0.8990  89.699997    NaN        NaN  \n",
       "25  54.233334   3576984  46.916668  0.8746  59.099998   0.80  52.599998  \n",
       "27  65.483337  19279600  29.316666  0.9466  64.500000   0.55  47.200001  \n",
       "28  51.316666  13825916  18.549999  0.9520  73.699997   0.30        NaN  \n",
       "30  57.700001   3253767  40.866669  0.7168  57.500000   2.00        NaN  \n",
       "33  48.866665  22075768  36.466667  0.9770  55.099998   0.35  45.599998  \n",
       "34  60.583332   2180583  36.516666  0.8184  88.500000   5.00        NaN  \n",
       "37  53.849998   9882167  18.183332  1.0156  70.699997   0.30  53.099998  \n",
       "39  58.183334  11640634  41.716667  0.7244  45.800003   1.50  39.200001  \n",
       "41  46.000000   5529667  37.566666  0.9760  40.900002   0.65        NaN  \n",
       "43  51.433334  49028316  60.483334  0.7406        NaN  31.40        NaN  \n",
       "46  55.400002  41742736  25.266666  0.9544  72.900002   0.50  37.599998  \n",
       "47  55.866669   5716200  41.650002  0.7318  56.900002   0.75  34.400002  \n",
       "49  52.049999  30878900  12.900000  0.8650  71.400002   0.30  44.299999  \n",
       "50  46.599998  12243300  35.316666  0.7628  70.900002   0.80        NaN  \n",
       "51  46.750000  12513100  37.066666  0.8120  91.900002   3.15        NaN  "
      ]
     },
     "execution_count": 132,
     "metadata": {},
     "output_type": "execute_result"
    }
   ],
   "source": [
    "africa_df[africa_df['femlab'] > mean_femlab]"
   ]
  },
  {
   "cell_type": "code",
   "execution_count": 134,
   "metadata": {
    "collapsed": true
   },
   "outputs": [],
   "source": [
    "paises_bajo_media = df[df['life'] < df['life'].mean()]"
   ]
  },
  {
   "cell_type": "code",
   "execution_count": 137,
   "metadata": {},
   "outputs": [
    {
     "name": "stdout",
     "output_type": "stream",
     "text": [
      "<class 'pandas.core.frame.DataFrame'>\n",
      "Int64Index: 77 entries, 1 to 192\n",
      "Data columns (total 13 columns):\n",
      "country     77 non-null object\n",
      "region      77 non-null object\n",
      "gdp         72 non-null float64\n",
      "school      74 non-null float64\n",
      "adfert      77 non-null float64\n",
      "chldmort    77 non-null float64\n",
      "life        77 non-null float64\n",
      "pop         77 non-null int64\n",
      "urban       77 non-null float64\n",
      "femlab      74 non-null float64\n",
      "literacy    65 non-null float64\n",
      "co2         74 non-null float64\n",
      "gini        36 non-null float64\n",
      "dtypes: float64(10), int64(1), object(2)\n",
      "memory usage: 8.4+ KB\n"
     ]
    }
   ],
   "source": [
    "paises_bajo_media.info()"
   ]
  },
  {
   "cell_type": "code",
   "execution_count": 145,
   "metadata": {},
   "outputs": [
    {
     "data": {
      "text/plain": [
       "True     58.247423\n",
       "False    41.752577\n",
       "Name: gini, dtype: float64"
      ]
     },
     "execution_count": 145,
     "metadata": {},
     "output_type": "execute_result"
    }
   ],
   "source": [
    "df['gini'].isna().value_counts('%') * 100"
   ]
  },
  {
   "cell_type": "code",
   "execution_count": 143,
   "metadata": {},
   "outputs": [
    {
     "data": {
      "text/plain": [
       "<matplotlib.axes._subplots.AxesSubplot at 0x11bf5cc18>"
      ]
     },
     "execution_count": 143,
     "metadata": {},
     "output_type": "execute_result"
    },
    {
     "data": {
      "image/png": "[encoded data removed]",
      "text/plain": [
       "<Figure size 432x288 with 1 Axes>"
      ]
     },
     "metadata": {},
     "output_type": "display_data"
    }
   ],
   "source": [
    "import matplotlib.pyplot as plt\n",
    "df['gini'].isna().value_counts('%').plot(kind='bar')"
   ]
  },
  {
   "cell_type": "code",
   "execution_count": 146,
   "metadata": {},
   "outputs": [
    {
     "name": "stdout",
     "output_type": "stream",
     "text": [
      "Antes dropna (194, 13)\n",
      "Despues dropna (71, 13)\n"
     ]
    }
   ],
   "source": [
    "print(\"Antes dropna\", df.shape)\n",
    "print(\"Despues dropna\", df.dropna().shape)"
   ]
  },
  {
   "cell_type": "markdown",
   "metadata": {},
   "source": [
    "## Subsetting estructuras"
   ]
  },
  {
   "cell_type": "markdown",
   "metadata": {},
   "source": [
    "## Operaciones en Pandas\n",
    "\n",
    "### Concatenación de operaciones en pandas"
   ]
  },
  {
   "cell_type": "markdown",
   "metadata": {},
   "source": [
    "### Iteración de elementos en un `pd.DataFrame`"
   ]
  },
  {
   "cell_type": "code",
   "execution_count": 150,
   "metadata": {},
   "outputs": [
    {
     "name": "stdout",
     "output_type": "stream",
     "text": [
      "0      72.316666\n",
      "1      54.733334\n",
      "2      52.250000\n",
      "3      53.783333\n",
      "4      48.866665\n",
      "5      50.116665\n",
      "6      73.333336\n",
      "7      45.933334\n",
      "8      48.566666\n",
      "9      59.783333\n",
      "10     56.016666\n",
      "11     47.516666\n",
      "12     53.049999\n",
      "13     56.599998\n",
      "14     72.333336\n",
      "15     50.066666\n",
      "16     60.016666\n",
      "17     57.049999\n",
      "18     61.150002\n",
      "19     57.366669\n",
      "20     62.516666\n",
      "21     52.416668\n",
      "22     46.866669\n",
      "23     54.816666\n",
      "24     45.849998\n",
      "25     54.233334\n",
      "26     74.016663\n",
      "27     65.483337\n",
      "28     51.316666\n",
      "29     50.000000\n",
      "         ...    \n",
      "164    80.066666\n",
      "165    80.383331\n",
      "166    75.550003\n",
      "167    78.633331\n",
      "168    73.116669\n",
      "169    67.399994\n",
      "170    81.449997\n",
      "171    74.000000\n",
      "172    74.750000\n",
      "173    78.483330\n",
      "174    80.566666\n",
      "175    80.883331\n",
      "176    81.783333\n",
      "177    67.733330\n",
      "178    79.550003\n",
      "179    49.666668\n",
      "180    81.400002\n",
      "181    68.783333\n",
      "182    67.133331\n",
      "183    70.866669\n",
      "184    68.349998\n",
      "185    79.466667\n",
      "186    80.083336\n",
      "187    70.666664\n",
      "188    61.483334\n",
      "189    71.533333\n",
      "190    66.500000\n",
      "191    71.833336\n",
      "192    66.033333\n",
      "193    69.966667\n",
      "Name: life, Length: 194, dtype: float64\n"
     ]
    }
   ],
   "source": [
    "for colnames, series in df.iteritems():\n",
    "    if colnames == 'life':\n",
    "        print(series)\n",
    "    else:\n",
    "        pass"
   ]
  },
  {
   "cell_type": "code",
   "execution_count": 151,
   "metadata": {},
   "outputs": [
    {
     "name": "stdout",
     "output_type": "stream",
     "text": [
      "country     Burundi\n",
      "region       Africa\n",
      "gdp           349.2\n",
      "school      2.48333\n",
      "adfert         18.6\n",
      "chldmort      168.5\n",
      "life        48.8667\n",
      "pop         7821783\n",
      "urban         10.25\n",
      "femlab       1.0344\n",
      "literacy       66.6\n",
      "co2             0.1\n",
      "gini           33.3\n",
      "Name: 4, dtype: object\n"
     ]
    }
   ],
   "source": [
    "for index, series in df.iterrows():\n",
    "    if index == 4:\n",
    "        print(series)"
   ]
  },
  {
   "cell_type": "code",
   "execution_count": 152,
   "metadata": {},
   "outputs": [
    {
     "data": {
      "text/plain": [
       "Index(['country', 'region', 'gdp', 'school', 'adfert', 'chldmort', 'life',\n",
       "       'pop', 'urban', 'femlab', 'literacy', 'co2', 'gini'],\n",
       "      dtype='object')"
      ]
     },
     "execution_count": 152,
     "metadata": {},
     "output_type": "execute_result"
    }
   ],
   "source": [
    "df.columns"
   ]
  },
  {
   "cell_type": "code",
   "execution_count": 168,
   "metadata": {},
   "outputs": [
    {
     "data": {
      "text/plain": [
       "Index(['gdp', 'adfert'], dtype='object')"
      ]
     },
     "execution_count": 168,
     "metadata": {},
     "output_type": "execute_result"
    }
   ],
   "source": [
    "df.loc[:, ['gdp', 'adfert']].columns"
   ]
  },
  {
   "cell_type": "code",
   "execution_count": 167,
   "metadata": {},
   "outputs": [
    {
     "data": {
      "text/plain": [
       "Index(['gdp', 'school', 'adfert'], dtype='object')"
      ]
     },
     "execution_count": 167,
     "metadata": {},
     "output_type": "execute_result"
    }
   ],
   "source": [
    "df_reducido = df.loc[: , 'gdp':'adfert']\n",
    "df_reducido.columns"
   ]
  },
  {
   "cell_type": "code",
   "execution_count": 158,
   "metadata": {
    "collapsed": true
   },
   "outputs": [],
   "source": [
    "df_reducido['pais'] = df['country']"
   ]
  },
  {
   "cell_type": "code",
   "execution_count": 159,
   "metadata": {},
   "outputs": [
    {
     "data": {
      "text/html": [
       "<div>\n",
       "<style scoped>\n",
       "    .dataframe tbody tr th:only-of-type {\n",
       "        vertical-align: middle;\n",
       "    }\n",
       "\n",
       "    .dataframe tbody tr th {\n",
       "        vertical-align: top;\n",
       "    }\n",
       "\n",
       "    .dataframe thead th {\n",
       "        text-align: right;\n",
       "    }\n",
       "</style>\n",
       "<table border=\"1\" class=\"dataframe\">\n",
       "  <thead>\n",
       "    <tr style=\"text-align: right;\">\n",
       "      <th></th>\n",
       "      <th>gdp</th>\n",
       "      <th>school</th>\n",
       "      <th>adfert</th>\n",
       "      <th>pais</th>\n",
       "    </tr>\n",
       "  </thead>\n",
       "  <tbody>\n",
       "    <tr>\n",
       "      <th>0</th>\n",
       "      <td>7300.399902</td>\n",
       "      <td>6.716667</td>\n",
       "      <td>7.300000</td>\n",
       "      <td>Algeria</td>\n",
       "    </tr>\n",
       "    <tr>\n",
       "      <th>1</th>\n",
       "      <td>1338.800049</td>\n",
       "      <td>3.100000</td>\n",
       "      <td>111.699997</td>\n",
       "      <td>Benin</td>\n",
       "    </tr>\n",
       "  </tbody>\n",
       "</table>\n",
       "</div>"
      ],
      "text/plain": [
       "           gdp    school      adfert     pais\n",
       "0  7300.399902  6.716667    7.300000  Algeria\n",
       "1  1338.800049  3.100000  111.699997    Benin"
      ]
     },
     "execution_count": 159,
     "metadata": {},
     "output_type": "execute_result"
    }
   ],
   "source": [
    "df_reducido.head(2)"
   ]
  },
  {
   "cell_type": "markdown",
   "metadata": {},
   "source": [
    "# Numpy"
   ]
  },
  {
   "cell_type": "markdown",
   "metadata": {},
   "source": [
    "## Operaciones vectoriales"
   ]
  },
  {
   "cell_type": "code",
   "execution_count": 160,
   "metadata": {
    "collapsed": true
   },
   "outputs": [],
   "source": [
    "import numpy as np"
   ]
  },
  {
   "cell_type": "code",
   "execution_count": 165,
   "metadata": {
    "collapsed": true
   },
   "outputs": [],
   "source": [
    "df_reducido['school_above_mean'] = np.where(df_reducido['school'] > df['school'].mean(), 1, 0)"
   ]
  },
  {
   "cell_type": "code",
   "execution_count": 166,
   "metadata": {},
   "outputs": [
    {
     "data": {
      "text/html": [
       "<div>\n",
       "<style scoped>\n",
       "    .dataframe tbody tr th:only-of-type {\n",
       "        vertical-align: middle;\n",
       "    }\n",
       "\n",
       "    .dataframe tbody tr th {\n",
       "        vertical-align: top;\n",
       "    }\n",
       "\n",
       "    .dataframe thead th {\n",
       "        text-align: right;\n",
       "    }\n",
       "</style>\n",
       "<table border=\"1\" class=\"dataframe\">\n",
       "  <thead>\n",
       "    <tr style=\"text-align: right;\">\n",
       "      <th></th>\n",
       "      <th>gdp</th>\n",
       "      <th>school</th>\n",
       "      <th>adfert</th>\n",
       "      <th>pais</th>\n",
       "      <th>school_above_mean</th>\n",
       "    </tr>\n",
       "  </thead>\n",
       "  <tbody>\n",
       "    <tr>\n",
       "      <th>0</th>\n",
       "      <td>7300.399902</td>\n",
       "      <td>6.716667</td>\n",
       "      <td>7.300000</td>\n",
       "      <td>Algeria</td>\n",
       "      <td>0</td>\n",
       "    </tr>\n",
       "    <tr>\n",
       "      <th>1</th>\n",
       "      <td>1338.800049</td>\n",
       "      <td>3.100000</td>\n",
       "      <td>111.699997</td>\n",
       "      <td>Benin</td>\n",
       "      <td>0</td>\n",
       "    </tr>\n",
       "    <tr>\n",
       "      <th>2</th>\n",
       "      <td>12307.400391</td>\n",
       "      <td>8.600000</td>\n",
       "      <td>52.099998</td>\n",
       "      <td>Botswana</td>\n",
       "      <td>1</td>\n",
       "    </tr>\n",
       "    <tr>\n",
       "      <th>3</th>\n",
       "      <td>1063.400024</td>\n",
       "      <td>1.300000</td>\n",
       "      <td>124.800003</td>\n",
       "      <td>Burkina Faso</td>\n",
       "      <td>0</td>\n",
       "    </tr>\n",
       "    <tr>\n",
       "      <th>4</th>\n",
       "      <td>349.200012</td>\n",
       "      <td>2.483333</td>\n",
       "      <td>18.600000</td>\n",
       "      <td>Burundi</td>\n",
       "      <td>0</td>\n",
       "    </tr>\n",
       "    <tr>\n",
       "      <th>5</th>\n",
       "      <td>1986.800049</td>\n",
       "      <td>5.650000</td>\n",
       "      <td>127.800003</td>\n",
       "      <td>Cameroon</td>\n",
       "      <td>0</td>\n",
       "    </tr>\n",
       "    <tr>\n",
       "      <th>6</th>\n",
       "      <td>3052.199951</td>\n",
       "      <td>3.500000</td>\n",
       "      <td>81.599998</td>\n",
       "      <td>Cape Verde</td>\n",
       "      <td>0</td>\n",
       "    </tr>\n",
       "    <tr>\n",
       "      <th>7</th>\n",
       "      <td>677.000000</td>\n",
       "      <td>3.383333</td>\n",
       "      <td>106.599998</td>\n",
       "      <td>Central African Rep</td>\n",
       "      <td>0</td>\n",
       "    </tr>\n",
       "    <tr>\n",
       "      <th>8</th>\n",
       "      <td>1266.199951</td>\n",
       "      <td>1.500000</td>\n",
       "      <td>164.500000</td>\n",
       "      <td>Chad</td>\n",
       "      <td>0</td>\n",
       "    </tr>\n",
       "    <tr>\n",
       "      <th>9</th>\n",
       "      <td>1099.000000</td>\n",
       "      <td>2.800000</td>\n",
       "      <td>58.000000</td>\n",
       "      <td>Comoros</td>\n",
       "      <td>0</td>\n",
       "    </tr>\n",
       "    <tr>\n",
       "      <th>10</th>\n",
       "      <td>3628.000000</td>\n",
       "      <td>5.850000</td>\n",
       "      <td>118.699997</td>\n",
       "      <td>Congo</td>\n",
       "      <td>0</td>\n",
       "    </tr>\n",
       "    <tr>\n",
       "      <th>11</th>\n",
       "      <td>279.799988</td>\n",
       "      <td>3.416667</td>\n",
       "      <td>201.399994</td>\n",
       "      <td>Congo (Dem Rep)</td>\n",
       "      <td>0</td>\n",
       "    </tr>\n",
       "    <tr>\n",
       "      <th>12</th>\n",
       "      <td>1539.199951</td>\n",
       "      <td>3.200000</td>\n",
       "      <td>129.399994</td>\n",
       "      <td>C�te d'Ivoire</td>\n",
       "      <td>0</td>\n",
       "    </tr>\n",
       "    <tr>\n",
       "      <th>13</th>\n",
       "      <td>1972.199951</td>\n",
       "      <td>3.800000</td>\n",
       "      <td>22.900000</td>\n",
       "      <td>Djibouti</td>\n",
       "      <td>0</td>\n",
       "    </tr>\n",
       "    <tr>\n",
       "      <th>14</th>\n",
       "      <td>4754.399902</td>\n",
       "      <td>5.950000</td>\n",
       "      <td>46.599998</td>\n",
       "      <td>Egypt</td>\n",
       "      <td>0</td>\n",
       "    </tr>\n",
       "    <tr>\n",
       "      <th>15</th>\n",
       "      <td>27645.800781</td>\n",
       "      <td>5.400000</td>\n",
       "      <td>122.900002</td>\n",
       "      <td>Equatorial Guinea</td>\n",
       "      <td>0</td>\n",
       "    </tr>\n",
       "    <tr>\n",
       "      <th>16</th>\n",
       "      <td>579.599976</td>\n",
       "      <td>3.400000</td>\n",
       "      <td>66.599998</td>\n",
       "      <td>Eritrea</td>\n",
       "      <td>0</td>\n",
       "    </tr>\n",
       "    <tr>\n",
       "      <th>17</th>\n",
       "      <td>741.400024</td>\n",
       "      <td>1.500000</td>\n",
       "      <td>72.400002</td>\n",
       "      <td>Ethiopia</td>\n",
       "      <td>0</td>\n",
       "    </tr>\n",
       "    <tr>\n",
       "      <th>18</th>\n",
       "      <td>13183.200195</td>\n",
       "      <td>7.183333</td>\n",
       "      <td>89.900002</td>\n",
       "      <td>Gabon</td>\n",
       "      <td>0</td>\n",
       "    </tr>\n",
       "    <tr>\n",
       "      <th>19</th>\n",
       "      <td>1218.400024</td>\n",
       "      <td>2.550000</td>\n",
       "      <td>76.599998</td>\n",
       "      <td>Gambia</td>\n",
       "      <td>0</td>\n",
       "    </tr>\n",
       "    <tr>\n",
       "      <th>20</th>\n",
       "      <td>1303.000000</td>\n",
       "      <td>6.783333</td>\n",
       "      <td>71.099998</td>\n",
       "      <td>Ghana</td>\n",
       "      <td>0</td>\n",
       "    </tr>\n",
       "    <tr>\n",
       "      <th>21</th>\n",
       "      <td>957.599976</td>\n",
       "      <td>1.600000</td>\n",
       "      <td>157.399994</td>\n",
       "      <td>Guinea</td>\n",
       "      <td>0</td>\n",
       "    </tr>\n",
       "    <tr>\n",
       "      <th>22</th>\n",
       "      <td>967.599976</td>\n",
       "      <td>2.300000</td>\n",
       "      <td>111.099998</td>\n",
       "      <td>Guinea-Bissau</td>\n",
       "      <td>0</td>\n",
       "    </tr>\n",
       "    <tr>\n",
       "      <th>23</th>\n",
       "      <td>1405.400024</td>\n",
       "      <td>6.750000</td>\n",
       "      <td>100.199997</td>\n",
       "      <td>Kenya</td>\n",
       "      <td>0</td>\n",
       "    </tr>\n",
       "    <tr>\n",
       "      <th>24</th>\n",
       "      <td>1284.400024</td>\n",
       "      <td>5.583333</td>\n",
       "      <td>73.500000</td>\n",
       "      <td>Lesotho</td>\n",
       "      <td>0</td>\n",
       "    </tr>\n",
       "    <tr>\n",
       "      <th>25</th>\n",
       "      <td>345.000000</td>\n",
       "      <td>3.650000</td>\n",
       "      <td>142.600006</td>\n",
       "      <td>Liberia</td>\n",
       "      <td>0</td>\n",
       "    </tr>\n",
       "    <tr>\n",
       "      <th>26</th>\n",
       "      <td>14497.799805</td>\n",
       "      <td>6.816667</td>\n",
       "      <td>3.200000</td>\n",
       "      <td>Libya</td>\n",
       "      <td>0</td>\n",
       "    </tr>\n",
       "    <tr>\n",
       "      <th>27</th>\n",
       "      <td>919.799988</td>\n",
       "      <td>5.200000</td>\n",
       "      <td>134.300003</td>\n",
       "      <td>Madagascar</td>\n",
       "      <td>0</td>\n",
       "    </tr>\n",
       "    <tr>\n",
       "      <th>28</th>\n",
       "      <td>660.400024</td>\n",
       "      <td>3.816667</td>\n",
       "      <td>119.199997</td>\n",
       "      <td>Malawi</td>\n",
       "      <td>0</td>\n",
       "    </tr>\n",
       "    <tr>\n",
       "      <th>29</th>\n",
       "      <td>1032.800049</td>\n",
       "      <td>1.833333</td>\n",
       "      <td>186.300003</td>\n",
       "      <td>Mali</td>\n",
       "      <td>0</td>\n",
       "    </tr>\n",
       "    <tr>\n",
       "      <th>...</th>\n",
       "      <td>...</td>\n",
       "      <td>...</td>\n",
       "      <td>...</td>\n",
       "      <td>...</td>\n",
       "      <td>...</td>\n",
       "    </tr>\n",
       "    <tr>\n",
       "      <th>164</th>\n",
       "      <td>36646.398438</td>\n",
       "      <td>11.300000</td>\n",
       "      <td>5.100000</td>\n",
       "      <td>Netherlands</td>\n",
       "      <td>1</td>\n",
       "    </tr>\n",
       "    <tr>\n",
       "      <th>165</th>\n",
       "      <td>48169.398438</td>\n",
       "      <td>12.666667</td>\n",
       "      <td>9.000000</td>\n",
       "      <td>Norway</td>\n",
       "      <td>1</td>\n",
       "    </tr>\n",
       "    <tr>\n",
       "      <th>166</th>\n",
       "      <td>15446.400391</td>\n",
       "      <td>9.816667</td>\n",
       "      <td>14.800000</td>\n",
       "      <td>Poland</td>\n",
       "      <td>1</td>\n",
       "    </tr>\n",
       "    <tr>\n",
       "      <th>167</th>\n",
       "      <td>21628.400391</td>\n",
       "      <td>7.450000</td>\n",
       "      <td>16.799999</td>\n",
       "      <td>Portugal</td>\n",
       "      <td>0</td>\n",
       "    </tr>\n",
       "    <tr>\n",
       "      <th>168</th>\n",
       "      <td>10560.400391</td>\n",
       "      <td>10.283333</td>\n",
       "      <td>32.000000</td>\n",
       "      <td>Romania</td>\n",
       "      <td>1</td>\n",
       "    </tr>\n",
       "    <tr>\n",
       "      <th>169</th>\n",
       "      <td>13424.799805</td>\n",
       "      <td>9.783334</td>\n",
       "      <td>30.000000</td>\n",
       "      <td>Russian Federation</td>\n",
       "      <td>1</td>\n",
       "    </tr>\n",
       "    <tr>\n",
       "      <th>170</th>\n",
       "      <td>NaN</td>\n",
       "      <td>NaN</td>\n",
       "      <td>2.500000</td>\n",
       "      <td>San Marino</td>\n",
       "      <td>0</td>\n",
       "    </tr>\n",
       "    <tr>\n",
       "      <th>171</th>\n",
       "      <td>9473.200195</td>\n",
       "      <td>9.950000</td>\n",
       "      <td>22.100000</td>\n",
       "      <td>Serbia</td>\n",
       "      <td>1</td>\n",
       "    </tr>\n",
       "    <tr>\n",
       "      <th>172</th>\n",
       "      <td>18552.199219</td>\n",
       "      <td>11.600000</td>\n",
       "      <td>20.200001</td>\n",
       "      <td>Slovakia</td>\n",
       "      <td>1</td>\n",
       "    </tr>\n",
       "    <tr>\n",
       "      <th>173</th>\n",
       "      <td>25321.199219</td>\n",
       "      <td>10.850000</td>\n",
       "      <td>5.000000</td>\n",
       "      <td>Slovenia</td>\n",
       "      <td>1</td>\n",
       "    </tr>\n",
       "    <tr>\n",
       "      <th>174</th>\n",
       "      <td>27862.199219</td>\n",
       "      <td>10.033333</td>\n",
       "      <td>12.700000</td>\n",
       "      <td>Spain</td>\n",
       "      <td>1</td>\n",
       "    </tr>\n",
       "    <tr>\n",
       "      <th>175</th>\n",
       "      <td>33621.398438</td>\n",
       "      <td>11.700000</td>\n",
       "      <td>6.000000</td>\n",
       "      <td>Sweden</td>\n",
       "      <td>1</td>\n",
       "    </tr>\n",
       "    <tr>\n",
       "      <th>176</th>\n",
       "      <td>37105.800781</td>\n",
       "      <td>10.866667</td>\n",
       "      <td>4.600000</td>\n",
       "      <td>Switzerland</td>\n",
       "      <td>1</td>\n",
       "    </tr>\n",
       "    <tr>\n",
       "      <th>177</th>\n",
       "      <td>6124.000000</td>\n",
       "      <td>11.200000</td>\n",
       "      <td>30.799999</td>\n",
       "      <td>Ukraine</td>\n",
       "      <td>1</td>\n",
       "    </tr>\n",
       "    <tr>\n",
       "      <th>178</th>\n",
       "      <td>33295.800781</td>\n",
       "      <td>9.066667</td>\n",
       "      <td>29.600000</td>\n",
       "      <td>United Kingdom</td>\n",
       "      <td>1</td>\n",
       "    </tr>\n",
       "    <tr>\n",
       "      <th>179</th>\n",
       "      <td>4662.000000</td>\n",
       "      <td>4.400000</td>\n",
       "      <td>171.100006</td>\n",
       "      <td>Angola</td>\n",
       "      <td>0</td>\n",
       "    </tr>\n",
       "    <tr>\n",
       "      <th>180</th>\n",
       "      <td>33707.199219</td>\n",
       "      <td>11.983334</td>\n",
       "      <td>16.500000</td>\n",
       "      <td>Australia</td>\n",
       "      <td>1</td>\n",
       "    </tr>\n",
       "    <tr>\n",
       "      <th>181</th>\n",
       "      <td>4259.600098</td>\n",
       "      <td>10.300000</td>\n",
       "      <td>45.200001</td>\n",
       "      <td>Fiji</td>\n",
       "      <td>1</td>\n",
       "    </tr>\n",
       "    <tr>\n",
       "      <th>182</th>\n",
       "      <td>2294.199951</td>\n",
       "      <td>7.800000</td>\n",
       "      <td>22.200001</td>\n",
       "      <td>Kiribati</td>\n",
       "      <td>1</td>\n",
       "    </tr>\n",
       "    <tr>\n",
       "      <th>183</th>\n",
       "      <td>NaN</td>\n",
       "      <td>9.800000</td>\n",
       "      <td>53.500000</td>\n",
       "      <td>Marshall Is</td>\n",
       "      <td>1</td>\n",
       "    </tr>\n",
       "    <tr>\n",
       "      <th>184</th>\n",
       "      <td>2906.800049</td>\n",
       "      <td>8.800000</td>\n",
       "      <td>25.400000</td>\n",
       "      <td>Micronesia</td>\n",
       "      <td>1</td>\n",
       "    </tr>\n",
       "    <tr>\n",
       "      <th>185</th>\n",
       "      <td>NaN</td>\n",
       "      <td>NaN</td>\n",
       "      <td>31.200001</td>\n",
       "      <td>Nauru</td>\n",
       "      <td>0</td>\n",
       "    </tr>\n",
       "    <tr>\n",
       "      <th>186</th>\n",
       "      <td>25199.599609</td>\n",
       "      <td>12.366667</td>\n",
       "      <td>30.900000</td>\n",
       "      <td>New Zealand</td>\n",
       "      <td>1</td>\n",
       "    </tr>\n",
       "    <tr>\n",
       "      <th>187</th>\n",
       "      <td>NaN</td>\n",
       "      <td>12.100000</td>\n",
       "      <td>13.800000</td>\n",
       "      <td>Palau</td>\n",
       "      <td>1</td>\n",
       "    </tr>\n",
       "    <tr>\n",
       "      <th>188</th>\n",
       "      <td>1953.800049</td>\n",
       "      <td>4.116667</td>\n",
       "      <td>66.900002</td>\n",
       "      <td>Papua New Guinea</td>\n",
       "      <td>0</td>\n",
       "    </tr>\n",
       "    <tr>\n",
       "      <th>189</th>\n",
       "      <td>4012.600098</td>\n",
       "      <td>10.300000</td>\n",
       "      <td>28.299999</td>\n",
       "      <td>Samoa</td>\n",
       "      <td>1</td>\n",
       "    </tr>\n",
       "    <tr>\n",
       "      <th>190</th>\n",
       "      <td>2249.199951</td>\n",
       "      <td>4.500000</td>\n",
       "      <td>70.300003</td>\n",
       "      <td>Solomon Islands</td>\n",
       "      <td>0</td>\n",
       "    </tr>\n",
       "    <tr>\n",
       "      <th>191</th>\n",
       "      <td>4072.199951</td>\n",
       "      <td>10.133333</td>\n",
       "      <td>22.299999</td>\n",
       "      <td>Tonga</td>\n",
       "      <td>1</td>\n",
       "    </tr>\n",
       "    <tr>\n",
       "      <th>192</th>\n",
       "      <td>NaN</td>\n",
       "      <td>NaN</td>\n",
       "      <td>23.299999</td>\n",
       "      <td>Tuvalu</td>\n",
       "      <td>0</td>\n",
       "    </tr>\n",
       "    <tr>\n",
       "      <th>193</th>\n",
       "      <td>3809.800049</td>\n",
       "      <td>6.700000</td>\n",
       "      <td>54.000000</td>\n",
       "      <td>Vanuatu</td>\n",
       "      <td>0</td>\n",
       "    </tr>\n",
       "  </tbody>\n",
       "</table>\n",
       "<p>194 rows × 5 columns</p>\n",
       "</div>"
      ],
      "text/plain": [
       "              gdp     school      adfert                 pais  \\\n",
       "0     7300.399902   6.716667    7.300000              Algeria   \n",
       "1     1338.800049   3.100000  111.699997                Benin   \n",
       "2    12307.400391   8.600000   52.099998             Botswana   \n",
       "3     1063.400024   1.300000  124.800003         Burkina Faso   \n",
       "4      349.200012   2.483333   18.600000              Burundi   \n",
       "5     1986.800049   5.650000  127.800003             Cameroon   \n",
       "6     3052.199951   3.500000   81.599998           Cape Verde   \n",
       "7      677.000000   3.383333  106.599998  Central African Rep   \n",
       "8     1266.199951   1.500000  164.500000                 Chad   \n",
       "9     1099.000000   2.800000   58.000000              Comoros   \n",
       "10    3628.000000   5.850000  118.699997                Congo   \n",
       "11     279.799988   3.416667  201.399994      Congo (Dem Rep)   \n",
       "12    1539.199951   3.200000  129.399994        C�te d'Ivoire   \n",
       "13    1972.199951   3.800000   22.900000             Djibouti   \n",
       "14    4754.399902   5.950000   46.599998                Egypt   \n",
       "15   27645.800781   5.400000  122.900002    Equatorial Guinea   \n",
       "16     579.599976   3.400000   66.599998              Eritrea   \n",
       "17     741.400024   1.500000   72.400002             Ethiopia   \n",
       "18   13183.200195   7.183333   89.900002                Gabon   \n",
       "19    1218.400024   2.550000   76.599998               Gambia   \n",
       "20    1303.000000   6.783333   71.099998                Ghana   \n",
       "21     957.599976   1.600000  157.399994               Guinea   \n",
       "22     967.599976   2.300000  111.099998        Guinea-Bissau   \n",
       "23    1405.400024   6.750000  100.199997                Kenya   \n",
       "24    1284.400024   5.583333   73.500000              Lesotho   \n",
       "25     345.000000   3.650000  142.600006              Liberia   \n",
       "26   14497.799805   6.816667    3.200000                Libya   \n",
       "27     919.799988   5.200000  134.300003           Madagascar   \n",
       "28     660.400024   3.816667  119.199997               Malawi   \n",
       "29    1032.800049   1.833333  186.300003                 Mali   \n",
       "..            ...        ...         ...                  ...   \n",
       "164  36646.398438  11.300000    5.100000          Netherlands   \n",
       "165  48169.398438  12.666667    9.000000               Norway   \n",
       "166  15446.400391   9.816667   14.800000               Poland   \n",
       "167  21628.400391   7.450000   16.799999             Portugal   \n",
       "168  10560.400391  10.283333   32.000000              Romania   \n",
       "169  13424.799805   9.783334   30.000000   Russian Federation   \n",
       "170           NaN        NaN    2.500000           San Marino   \n",
       "171   9473.200195   9.950000   22.100000               Serbia   \n",
       "172  18552.199219  11.600000   20.200001             Slovakia   \n",
       "173  25321.199219  10.850000    5.000000             Slovenia   \n",
       "174  27862.199219  10.033333   12.700000                Spain   \n",
       "175  33621.398438  11.700000    6.000000               Sweden   \n",
       "176  37105.800781  10.866667    4.600000          Switzerland   \n",
       "177   6124.000000  11.200000   30.799999              Ukraine   \n",
       "178  33295.800781   9.066667   29.600000       United Kingdom   \n",
       "179   4662.000000   4.400000  171.100006               Angola   \n",
       "180  33707.199219  11.983334   16.500000            Australia   \n",
       "181   4259.600098  10.300000   45.200001                 Fiji   \n",
       "182   2294.199951   7.800000   22.200001             Kiribati   \n",
       "183           NaN   9.800000   53.500000          Marshall Is   \n",
       "184   2906.800049   8.800000   25.400000           Micronesia   \n",
       "185           NaN        NaN   31.200001                Nauru   \n",
       "186  25199.599609  12.366667   30.900000          New Zealand   \n",
       "187           NaN  12.100000   13.800000                Palau   \n",
       "188   1953.800049   4.116667   66.900002     Papua New Guinea   \n",
       "189   4012.600098  10.300000   28.299999                Samoa   \n",
       "190   2249.199951   4.500000   70.300003      Solomon Islands   \n",
       "191   4072.199951  10.133333   22.299999                Tonga   \n",
       "192           NaN        NaN   23.299999               Tuvalu   \n",
       "193   3809.800049   6.700000   54.000000              Vanuatu   \n",
       "\n",
       "     school_above_mean  \n",
       "0                    0  \n",
       "1                    0  \n",
       "2                    1  \n",
       "3                    0  \n",
       "4                    0  \n",
       "5                    0  \n",
       "6                    0  \n",
       "7                    0  \n",
       "8                    0  \n",
       "9                    0  \n",
       "10                   0  \n",
       "11                   0  \n",
       "12                   0  \n",
       "13                   0  \n",
       "14                   0  \n",
       "15                   0  \n",
       "16                   0  \n",
       "17                   0  \n",
       "18                   0  \n",
       "19                   0  \n",
       "20                   0  \n",
       "21                   0  \n",
       "22                   0  \n",
       "23                   0  \n",
       "24                   0  \n",
       "25                   0  \n",
       "26                   0  \n",
       "27                   0  \n",
       "28                   0  \n",
       "29                   0  \n",
       "..                 ...  \n",
       "164                  1  \n",
       "165                  1  \n",
       "166                  1  \n",
       "167                  0  \n",
       "168                  1  \n",
       "169                  1  \n",
       "170                  0  \n",
       "171                  1  \n",
       "172                  1  \n",
       "173                  1  \n",
       "174                  1  \n",
       "175                  1  \n",
       "176                  1  \n",
       "177                  1  \n",
       "178                  1  \n",
       "179                  0  \n",
       "180                  1  \n",
       "181                  1  \n",
       "182                  1  \n",
       "183                  1  \n",
       "184                  1  \n",
       "185                  0  \n",
       "186                  1  \n",
       "187                  1  \n",
       "188                  0  \n",
       "189                  1  \n",
       "190                  0  \n",
       "191                  1  \n",
       "192                  0  \n",
       "193                  0  \n",
       "\n",
       "[194 rows x 5 columns]"
      ]
     },
     "execution_count": 166,
     "metadata": {},
     "output_type": "execute_result"
    }
   ],
   "source": [
    "df_reducido"
   ]
  },
  {
   "cell_type": "code",
   "execution_count": null,
   "metadata": {
    "collapsed": true
   },
   "outputs": [],
   "source": []
  }
 ],
 "metadata": {
  "kernelspec": {
   "display_name": "Python 3",
   "language": "python",
   "name": "python3"
  },
  "language_info": {
   "codemirror_mode": {
    "name": "ipython",
    "version": 3
   },
   "file_extension": ".py",
   "mimetype": "text/x-python",
   "name": "python",
   "nbconvert_exporter": "python",
   "pygments_lexer": "ipython3",
   "version": "3.6.3"
  }
 },
 "nbformat": 4,
 "nbformat_minor": 2
}
