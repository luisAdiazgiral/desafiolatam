{
 "cells": [
  {
   "cell_type": "code",
   "execution_count": 31,
   "metadata": {},
   "outputs": [
    {
     "name": "stdout",
     "output_type": "stream",
     "text": [
      "Iteración 1\n",
      "Iteración 2\n",
      "Iteración 3\n",
      "Iteración 4\n",
      "Iteración 5\n",
      "Iteración 6\n",
      "Iteración 7\n",
      "Iteración 8\n",
      "Iteración 9\n",
      "Iteración 10\n",
      "Iteración 11\n",
      "Iteración 12\n",
      "Iteración 13\n",
      "Iteración 14\n",
      "Iteración 15\n",
      "Iteración 16\n",
      "Iteración 17\n",
      "Iteración 18\n",
      "Iteración 19\n",
      "Iteración 20\n",
      "Iteración 21\n",
      "Iteración 22\n",
      "Iteración 23\n",
      "Iteración 24\n",
      "Iteración 25\n",
      "Iteración 26\n",
      "Iteración 27\n",
      "Iteración 28\n",
      "Iteración 29\n",
      "Iteración 30\n",
      "Iteración 31\n",
      "Iteración 32\n",
      "Iteración 33\n",
      "Iteración 34\n",
      "Iteración 35\n",
      "Iteración 36\n",
      "Iteración 37\n",
      "Iteración 38\n",
      "Iteración 39\n",
      "Iteración 40\n",
      "Iteración 41\n",
      "Iteración 42\n",
      "Iteración 43\n",
      "Iteración 44\n",
      "Iteración 45\n",
      "Iteración 46\n",
      "Iteración 47\n",
      "Iteración 48\n",
      "Iteración 49\n",
      "Iteración 50\n"
     ]
    }
   ],
   "source": [
    "i = list(range(0,50))\n",
    "for x in i:\n",
    "    print(f'Iteración {x+1}')\n",
    "   "
   ]
  },
  {
   "cell_type": "code",
   "execution_count": null,
   "metadata": {
    "collapsed": true
   },
   "outputs": [],
   "source": []
  },
  {
   "cell_type": "code",
   "execution_count": 30,
   "metadata": {},
   "outputs": [
    {
     "name": "stdout",
     "output_type": "stream",
     "text": [
      "Ingrese un número para comenzar la cuenta:  5\n",
      "Iteración 5\n",
      "Iteración 4\n",
      "Iteración 3\n",
      "Iteración 2\n",
      "Iteración 1\n"
     ]
    }
   ],
   "source": [
    "cuenta_regresiva = int(input(\"Ingrese un número para comenzar la cuenta:  \"))\n",
    "while cuenta_regresiva > 0:\n",
    "    tmp = cuenta_regresiva\n",
    "    print(\"Iteración {}\".format(tmp))\n",
    "    cuenta_regresiva -=1"
   ]
  },
  {
   "cell_type": "code",
   "execution_count": 45,
   "metadata": {},
   "outputs": [
    {
     "name": "stdout",
     "output_type": "stream",
     "text": [
      "Ingrese un numero para calcular los pares del rango:  5\n",
      "0\n",
      "2\n",
      "4\n",
      "6\n",
      "8\n"
     ]
    }
   ],
   "source": [
    "#solo pares\n",
    "numero = int(input('Ingrese un numero para mostrar los pares:  '))\n",
    "numero = numero * 2\n",
    "for x in range(numero):\n",
    "    if x%2 ==0:\n",
    "        print(x)\n",
    "\n",
    "    "
   ]
  },
  {
   "cell_type": "code",
   "execution_count": 46,
   "metadata": {},
   "outputs": [
    {
     "name": "stdout",
     "output_type": "stream",
     "text": [
      "Ingrese un numero para calcular los pares del rango:  5\n",
      "2\n",
      "4\n",
      "6\n",
      "8\n",
      "10\n"
     ]
    }
   ],
   "source": [
    "# solo_pares_refactor.py \n",
    "numero = int(input('Ingrese un numero para mostrar los pares:  '))\n",
    "numero = numero * 2\n",
    "for x in range(numero):\n",
    "    if x%2 ==0:\n",
    "        print(x+2)"
   ]
  },
  {
   "cell_type": "code",
   "execution_count": 49,
   "metadata": {},
   "outputs": [
    {
     "name": "stdout",
     "output_type": "stream",
     "text": [
      "Ingrese un numero para calcular los pares del rango:  5\n",
      "1\n",
      "3\n",
      "5\n",
      "7\n",
      "9\n"
     ]
    }
   ],
   "source": [
    "#solo_impares.py \n",
    "numero = int(input('Ingrese un numero para mostrar los impares:  '))\n",
    "numero = numero * 2\n",
    "for x in range(numero):\n",
    "    if x%2 !=0:\n",
    "        print(x)"
   ]
  },
  {
   "cell_type": "code",
   "execution_count": 51,
   "metadata": {},
   "outputs": [
    {
     "name": "stdout",
     "output_type": "stream",
     "text": [
      "Ingrese un numero para sumar los pares:  5\n",
      "el resultado de la suma es : 30\n"
     ]
    }
   ],
   "source": [
    "#  suma_pares.py\n",
    "numero = int(input('Ingrese un numero para sumar los pares:  '))\n",
    "numero = numero * 2\n",
    "suma = 0\n",
    "for x in range(numero):\n",
    "    if x%2 ==0:\n",
    "        acum = x + 2\n",
    "        suma += acum\n",
    "print(f'el resultado de la suma es : {suma}')"
   ]
  },
  {
   "cell_type": "code",
   "execution_count": 55,
   "metadata": {},
   "outputs": [
    {
     "name": "stdout",
     "output_type": "stream",
     "text": [
      "Ingrese la cantidad de veces que desea repetir el parrafo: 1\n",
      "Lorem ipsum dolor sit amet, consectetur adipiscing elit. Donec metus tellus, mollis ac euismod sit amet, facilisis elementum dui. Maecenas auctor ultricies erat vitae imperdiet. Ut eget dolor euismod, molestie mauris quis, fringilla justo. Praesent tristique risus ex, quis facilisis leo ullamcorper ut. Praesent fringilla est urna, quis tincidunt sem maximus ut. Maecenas egestas interdum posuere. Praesent ultricies tincidunt ligula ut tincidunt. Sed nec imperdiet purus, id pretium sem. Nunc feugiat, mi at ornare pretium, metus felis pharetra mauris, quis condimentum quam sapien eget eros. Vestibulum lobortis auctor massa ut interdum. Donec ultricies metus est, et congue diam malesuada non. Curabitur eget libero quis eros pharetra auctor. Nulla purus ante, ornare id erat ut, tincidunt rutrum arcu. Quisque efficitur libero magna, tincidunt tempor neque malesuada eget. \n",
      "\n"
     ]
    }
   ],
   "source": [
    "text = (\"Lorem ipsum dolor sit amet, consectetur adipiscing elit. Donec metus tellus, mollis ac euismod sit amet, facilisis elementum dui. Maecenas auctor ultricies erat vitae imperdiet. Ut eget dolor euismod, molestie mauris quis, fringilla justo. Praesent tristique risus ex, quis facilisis leo ullamcorper ut. Praesent fringilla est urna, quis tincidunt sem maximus ut. Maecenas egestas interdum posuere. Praesent ultricies tincidunt ligula ut tincidunt. Sed nec imperdiet purus, id pretium sem. Nunc feugiat, mi at ornare pretium, metus felis pharetra mauris, quis condimentum quam sapien eget eros. Vestibulum lobortis auctor massa ut interdum. Donec ultricies metus est, et congue diam malesuada non. Curabitur eget libero quis eros pharetra auctor. Nulla purus ante, ornare id erat ut, tincidunt rutrum arcu. Quisque efficitur libero magna, tincidunt tempor neque malesuada eget. \\n\")\n",
    "veces = int(input('Ingrese la cantidad de veces que desea repetir el parrafo: '))\n",
    "while veces > 0:\n",
    "    print(text)\n",
    "    veces -=1\n"
   ]
  },
  {
   "cell_type": "code",
   "execution_count": 73,
   "metadata": {},
   "outputs": [
    {
     "name": "stdout",
     "output_type": "stream",
     "text": [
      "Igrese la cantidad de letras a mostrar5\n",
      "abcde\n"
     ]
    }
   ],
   "source": [
    "#gen py\n",
    "import string\n",
    "def mostrar(veces):\n",
    "    print(string.ascii_lowercase[:veces])\n",
    "veces = int(input('Igrese la cantidad de letras a mostrar'))\n",
    "mostrar(veces)"
   ]
  },
  {
   "cell_type": "code",
   "execution_count": 165,
   "metadata": {},
   "outputs": [
    {
     "name": "stdout",
     "output_type": "stream",
     "text": [
      "ingrese el numero de simbolos que quiere en el patron: 3\n",
      "ingrese el simbolo 1 del patron *\n",
      "ingrese el simbolo 2 del patron %\n",
      "ingrese el simbolo 3 del patron #\n",
      "ingrese el numero de veces que desea repetir el patron: 10\n",
      "*%#*%#*%#*%#*%#*%#*%#*%#*%#*%#\n"
     ]
    }
   ],
   "source": [
    "numero = int(input('ingrese el numero de simbolos que quiere en el patron: '))\n",
    "caracter=[]\n",
    "patron=''\n",
    "\n",
    "for x in range(numero):\n",
    "    simbolo = input(f'ingrese el simbolo {x+1} del patron ')\n",
    "    caracter.append(simbolo)\n",
    "repetir = int(input('ingrese el numero de veces que desea repetir el patron: '))\n",
    "for x in range(repetir):   \n",
    "    for z in range(numero):\n",
    "        patron=patron + str(caracter[z])\n",
    "print(patron)\n"
   ]
  },
  {
   "cell_type": "code",
   "execution_count": null,
   "metadata": {
    "collapsed": true
   },
   "outputs": [],
   "source": []
  },
  {
   "cell_type": "code",
   "execution_count": null,
   "metadata": {
    "collapsed": true
   },
   "outputs": [],
   "source": []
  },
  {
   "cell_type": "code",
   "execution_count": null,
   "metadata": {
    "collapsed": true
   },
   "outputs": [],
   "source": []
  },
  {
   "cell_type": "code",
   "execution_count": null,
   "metadata": {
    "collapsed": true
   },
   "outputs": [],
   "source": []
  },
  {
   "cell_type": "code",
   "execution_count": null,
   "metadata": {
    "collapsed": true
   },
   "outputs": [],
   "source": []
  },
  {
   "cell_type": "code",
   "execution_count": 107,
   "metadata": {},
   "outputs": [
    {
     "name": "stdout",
     "output_type": "stream",
     "text": [
      "cuantas veces desea repetir el patron?8\n",
      "*.*.*.*\n",
      "**..**..**..**\n",
      "12121212\n",
      "123123123123\n"
     ]
    }
   ],
   "source": [
    "def patron1(cont):\n",
    "    c1='*'\n",
    "    c2='.'\n",
    "    frase=''\n",
    "    if cont%2==0:\n",
    "        cont=cont-1\n",
    "    for x in range(cont):\n",
    "        if x%2 ==0:\n",
    "            frase = frase + c1\n",
    "        else:\n",
    "            frase = frase + c2\n",
    "    print(frase)\n",
    "def patron2(cont):\n",
    "    c1='**'\n",
    "    c2='..'\n",
    "    frase=''\n",
    "    if cont%2==0:\n",
    "        cont=cont-1\n",
    "    for x in range(cont):\n",
    "        if x%2 ==0:\n",
    "            frase = frase + c1\n",
    "        else:\n",
    "            frase = frase + c2\n",
    "    print(frase)\n",
    "def patron3(cont):\n",
    "    c1='1'\n",
    "    c2='2'\n",
    "    frase=''\n",
    "    if cont%2!=0:\n",
    "        cont=cont-1\n",
    "    for x in range(cont):\n",
    "        if x%2 ==0:\n",
    "            frase = frase + c1\n",
    "        else:\n",
    "            frase = frase + c2\n",
    "    print(frase)\n",
    "def patron4(cont):\n",
    "    c1='12'\n",
    "    c2='3'\n",
    "    frase=''\n",
    "    if cont%2!=0:\n",
    "        cont=cont-1\n",
    "    for x in range(cont):\n",
    "        if x%2 ==0:\n",
    "            frase = frase + c1\n",
    "        else:\n",
    "            frase = frase + c2\n",
    "    print(frase)\n",
    "veces=int(input('cuantas veces desea repetir el patron?'))\n",
    "patron1(veces)\n",
    "patron2(veces)\n",
    "patron3(veces)\n",
    "patron4(veces)\n",
    "\n"
   ]
  },
  {
   "cell_type": "code",
   "execution_count": 113,
   "metadata": {},
   "outputs": [
    {
     "name": "stdout",
     "output_type": "stream",
     "text": [
      "0123"
     ]
    }
   ],
   "source": [
    "#evitar salto de linea, solo hay que agregar un parametro opcional al print\n",
    "for i in range(4):\n",
    "    print(i,end=\"\")\n",
    "    #aqui asume que el final debe ser un espacio y evita el salto de linea"
   ]
  },
  {
   "cell_type": "code",
   "execution_count": 102,
   "metadata": {},
   "outputs": [
    {
     "name": "stdout",
     "output_type": "stream",
     "text": [
      "1\n",
      "12\n",
      "123\n",
      "1234\n",
      "12345\n"
     ]
    }
   ],
   "source": [
    "frase=''\n",
    "for x in range(5):\n",
    "    frase = frase + str(x+1)\n",
    "    print(frase)"
   ]
  },
  {
   "cell_type": "code",
   "execution_count": 111,
   "metadata": {},
   "outputs": [
    {
     "name": "stdout",
     "output_type": "stream",
     "text": [
      "*****\n",
      "*   *\n",
      "*   *\n",
      "*   *\n",
      "*****\n"
     ]
    }
   ],
   "source": [
    "base = '*****'\n",
    "lateral = '*   *'\n",
    "for x in range(5):\n",
    "    if (x == 0) or (x == 4):\n",
    "        print(base)\n",
    "    else:\n",
    "        print(lateral)"
   ]
  },
  {
   "cell_type": "code",
   "execution_count": 116,
   "metadata": {},
   "outputs": [
    {
     "name": "stdout",
     "output_type": "stream",
     "text": [
      "*****\n",
      "  *  \n",
      "  *  \n",
      "  *  \n",
      "*****\n"
     ]
    }
   ],
   "source": [
    "base = '*****'\n",
    "lateral = '  *  '\n",
    "for x in range(5):\n",
    "    if (x == 0) or (x == 4):\n",
    "        print(base)\n",
    "    else:\n",
    "        print(lateral)"
   ]
  },
  {
   "cell_type": "code",
   "execution_count": 160,
   "metadata": {},
   "outputs": [
    {
     "name": "stdout",
     "output_type": "stream",
     "text": [
      "*****\n",
      "    *\n",
      "   *\n",
      "  *\n",
      "*****\n"
     ]
    }
   ],
   "source": [
    "c1='*'\n",
    "c2=' '\n",
    "base = ''\n",
    "lateral = ''\n",
    "aux=4\n",
    "b=0\n",
    "for k in range(5):\n",
    "    base=base+c1\n",
    "for x in range(5):\n",
    "    if (x == 0) or (x == 4):\n",
    "        print(base)\n",
    "    else:\n",
    "        for x in range(1):\n",
    "            for x in range(aux):\n",
    "                lateral=lateral+c2\n",
    "            lateral=lateral+c1\n",
    "            print(lateral)\n",
    "            aux -=1\n",
    "            lateral=''\n"
   ]
  },
  {
   "cell_type": "code",
   "execution_count": null,
   "metadata": {
    "collapsed": true
   },
   "outputs": [],
   "source": []
  },
  {
   "cell_type": "code",
   "execution_count": 159,
   "metadata": {},
   "outputs": [
    {
     "name": "stdout",
     "output_type": "stream",
     "text": [
      "*   *\n",
      " * * \n",
      "  *  \n",
      " * * \n",
      "*   *\n"
     ]
    }
   ],
   "source": [
    "base = '*   *'\n",
    "base2= ' * * '\n",
    "base3 = '  *  '\n",
    "for x in range(5):\n",
    "    if (x == 0) or (x == 4):\n",
    "        print(base)\n",
    "    elif (x == 1) or (x == 3):\n",
    "        print(base2)\n",
    "    else:\n",
    "        print(base3)"
   ]
  },
  {
   "cell_type": "code",
   "execution_count": 177,
   "metadata": {},
   "outputs": [
    {
     "name": "stdout",
     "output_type": "stream",
     "text": [
      "ingrese el valor para la matriz3\n",
      "***\n",
      "* *\n",
      "***\n"
     ]
    }
   ],
   "source": [
    "ch = '*'\n",
    "ch2=' '\n",
    "base = ''\n",
    "lateral = ''\n",
    "matriz = int(input('ingrese el valor para la matriz'))\n",
    "\n",
    "for x in range(matriz):\n",
    "    if (x == 0) or (x == matriz-1):\n",
    "        for j in range(matriz):\n",
    "            base=base+ch\n",
    "        print(base)\n",
    "        base = ''\n",
    "    else:\n",
    "        for k in range(matriz):\n",
    "            if (k == 0) or (k == matriz-1):\n",
    "                lateral=lateral+ch\n",
    "            else:\n",
    "                lateral=lateral+ch2\n",
    "            \n",
    "        print(lateral)\n",
    "        lateral=''"
   ]
  },
  {
   "cell_type": "code",
   "execution_count": null,
   "metadata": {
    "collapsed": true
   },
   "outputs": [],
   "source": []
  },
  {
   "cell_type": "code",
   "execution_count": 178,
   "metadata": {},
   "outputs": [
    {
     "name": "stdout",
     "output_type": "stream",
     "text": [
      "[1, 2, 3, 4]\n"
     ]
    }
   ],
   "source": [
    "lista=[1,2,3]\n",
    "lista.append(4)\n",
    "print(lista)"
   ]
  },
  {
   "cell_type": "code",
   "execution_count": 179,
   "metadata": {},
   "outputs": [
    {
     "ename": "AttributeError",
     "evalue": "'tuple' object has no attribute 'append'",
     "output_type": "error",
     "traceback": [
      "\u001b[1;31m---------------------------------------------------------------------------\u001b[0m",
      "\u001b[1;31mAttributeError\u001b[0m                            Traceback (most recent call last)",
      "\u001b[1;32m<ipython-input-179-9c9770ee57e8>\u001b[0m in \u001b[0;36m<module>\u001b[1;34m()\u001b[0m\n\u001b[0;32m      1\u001b[0m \u001b[0mlista\u001b[0m\u001b[1;33m=\u001b[0m\u001b[1;33m(\u001b[0m\u001b[1;36m1\u001b[0m\u001b[1;33m,\u001b[0m\u001b[1;36m2\u001b[0m\u001b[1;33m,\u001b[0m\u001b[1;36m3\u001b[0m\u001b[1;33m)\u001b[0m\u001b[1;33m\u001b[0m\u001b[0m\n\u001b[1;32m----> 2\u001b[1;33m \u001b[0mlista\u001b[0m\u001b[1;33m.\u001b[0m\u001b[0mappend\u001b[0m\u001b[1;33m(\u001b[0m\u001b[1;36m4\u001b[0m\u001b[1;33m)\u001b[0m\u001b[1;33m\u001b[0m\u001b[0m\n\u001b[0m\u001b[0;32m      3\u001b[0m \u001b[0mprint\u001b[0m\u001b[1;33m(\u001b[0m\u001b[0mlista\u001b[0m\u001b[1;33m)\u001b[0m\u001b[1;33m\u001b[0m\u001b[0m\n",
      "\u001b[1;31mAttributeError\u001b[0m: 'tuple' object has no attribute 'append'"
     ]
    }
   ],
   "source": [
    "lista=(1,2,3)\n",
    "lista.append(4)\n",
    "print(lista)"
   ]
  },
  {
   "cell_type": "code",
   "execution_count": null,
   "metadata": {
    "collapsed": true
   },
   "outputs": [],
   "source": []
  },
  {
   "cell_type": "code",
   "execution_count": null,
   "metadata": {
    "collapsed": true
   },
   "outputs": [],
   "source": []
  },
  {
   "cell_type": "code",
   "execution_count": null,
   "metadata": {
    "collapsed": true
   },
   "outputs": [],
   "source": []
  },
  {
   "cell_type": "code",
   "execution_count": null,
   "metadata": {
    "collapsed": true
   },
   "outputs": [],
   "source": []
  },
  {
   "cell_type": "code",
   "execution_count": null,
   "metadata": {
    "collapsed": true
   },
   "outputs": [],
   "source": []
  },
  {
   "cell_type": "code",
   "execution_count": null,
   "metadata": {
    "collapsed": true
   },
   "outputs": [],
   "source": []
  },
  {
   "cell_type": "code",
   "execution_count": null,
   "metadata": {
    "collapsed": true
   },
   "outputs": [],
   "source": []
  },
  {
   "cell_type": "code",
   "execution_count": null,
   "metadata": {
    "collapsed": true
   },
   "outputs": [],
   "source": []
  },
  {
   "cell_type": "code",
   "execution_count": null,
   "metadata": {
    "collapsed": true
   },
   "outputs": [],
   "source": []
  },
  {
   "cell_type": "code",
   "execution_count": null,
   "metadata": {
    "collapsed": true
   },
   "outputs": [],
   "source": []
  },
  {
   "cell_type": "code",
   "execution_count": null,
   "metadata": {
    "collapsed": true
   },
   "outputs": [],
   "source": []
  },
  {
   "cell_type": "code",
   "execution_count": null,
   "metadata": {
    "collapsed": true
   },
   "outputs": [],
   "source": []
  }
 ],
 "metadata": {
  "kernelspec": {
   "display_name": "Python 3",
   "language": "python",
   "name": "python3"
  },
  "language_info": {
   "codemirror_mode": {
    "name": "ipython",
    "version": 3
   },
   "file_extension": ".py",
   "mimetype": "text/x-python",
   "name": "python",
   "nbconvert_exporter": "python",
   "pygments_lexer": "ipython3",
   "version": "3.6.3"
  }
 },
 "nbformat": 4,
 "nbformat_minor": 2
}
