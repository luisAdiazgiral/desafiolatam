{
 "cells": [
  {
   "cell_type": "code",
   "execution_count": 31,
   "metadata": {},
   "outputs": [
    {
     "name": "stdout",
     "output_type": "stream",
     "text": [
      "Iteración 1\n",
      "Iteración 2\n",
      "Iteración 3\n",
      "Iteración 4\n",
      "Iteración 5\n",
      "Iteración 6\n",
      "Iteración 7\n",
      "Iteración 8\n",
      "Iteración 9\n",
      "Iteración 10\n",
      "Iteración 11\n",
      "Iteración 12\n",
      "Iteración 13\n",
      "Iteración 14\n",
      "Iteración 15\n",
      "Iteración 16\n",
      "Iteración 17\n",
      "Iteración 18\n",
      "Iteración 19\n",
      "Iteración 20\n",
      "Iteración 21\n",
      "Iteración 22\n",
      "Iteración 23\n",
      "Iteración 24\n",
      "Iteración 25\n",
      "Iteración 26\n",
      "Iteración 27\n",
      "Iteración 28\n",
      "Iteración 29\n",
      "Iteración 30\n",
      "Iteración 31\n",
      "Iteración 32\n",
      "Iteración 33\n",
      "Iteración 34\n",
      "Iteración 35\n",
      "Iteración 36\n",
      "Iteración 37\n",
      "Iteración 38\n",
      "Iteración 39\n",
      "Iteración 40\n",
      "Iteración 41\n",
      "Iteración 42\n",
      "Iteración 43\n",
      "Iteración 44\n",
      "Iteración 45\n",
      "Iteración 46\n",
      "Iteración 47\n",
      "Iteración 48\n",
      "Iteración 49\n",
      "Iteración 50\n"
     ]
    }
   ],
   "source": [
    "i = list(range(0,50))\n",
    "for x in i:\n",
    "    print(f'Iteración {x+1}')\n",
    "   "
   ]
  },
  {
   "cell_type": "code",
   "execution_count": null,
   "metadata": {
    "collapsed": true
   },
   "outputs": [],
   "source": []
  },
  {
   "cell_type": "code",
   "execution_count": 30,
   "metadata": {},
   "outputs": [
    {
     "name": "stdout",
     "output_type": "stream",
     "text": [
      "Ingrese un número para comenzar la cuenta:  5\n",
      "Iteración 5\n",
      "Iteración 4\n",
      "Iteración 3\n",
      "Iteración 2\n",
      "Iteración 1\n"
     ]
    }
   ],
   "source": [
    "cuenta_regresiva = int(input(\"Ingrese un número para comenzar la cuenta:  \"))\n",
    "while cuenta_regresiva > 0:\n",
    "    tmp = cuenta_regresiva\n",
    "    print(\"Iteración {}\".format(tmp))\n",
    "    cuenta_regresiva -=1"
   ]
  },
  {
   "cell_type": "code",
   "execution_count": 45,
   "metadata": {},
   "outputs": [
    {
     "name": "stdout",
     "output_type": "stream",
     "text": [
      "Ingrese un numero para calcular los pares del rango:  5\n",
      "0\n",
      "2\n",
      "4\n",
      "6\n",
      "8\n"
     ]
    }
   ],
   "source": [
    "#solo pares\n",
    "numero = int(input('Ingrese un numero para mostrar los pares:  '))\n",
    "numero = numero * 2\n",
    "for x in range(numero):\n",
    "    if x%2 ==0:\n",
    "        print(x)\n",
    "\n",
    "    "
   ]
  },
  {
   "cell_type": "code",
   "execution_count": 46,
   "metadata": {},
   "outputs": [
    {
     "name": "stdout",
     "output_type": "stream",
     "text": [
      "Ingrese un numero para calcular los pares del rango:  5\n",
      "2\n",
      "4\n",
      "6\n",
      "8\n",
      "10\n"
     ]
    }
   ],
   "source": [
    "# solo_pares_refactor.py \n",
    "numero = int(input('Ingrese un numero para mostrar los pares:  '))\n",
    "numero = numero * 2\n",
    "for x in range(numero):\n",
    "    if x%2 ==0:\n",
    "        print(x+2)"
   ]
  },
  {
   "cell_type": "code",
   "execution_count": 49,
   "metadata": {},
   "outputs": [
    {
     "name": "stdout",
     "output_type": "stream",
     "text": [
      "Ingrese un numero para calcular los pares del rango:  5\n",
      "1\n",
      "3\n",
      "5\n",
      "7\n",
      "9\n"
     ]
    }
   ],
   "source": [
    "#solo_impares.py \n",
    "numero = int(input('Ingrese un numero para mostrar los impares:  '))\n",
    "numero = numero * 2\n",
    "for x in range(numero):\n",
    "    if x%2 !=0:\n",
    "        print(x)"
   ]
  },
  {
   "cell_type": "code",
   "execution_count": 51,
   "metadata": {},
   "outputs": [
    {
     "name": "stdout",
     "output_type": "stream",
     "text": [
      "Ingrese un numero para sumar los pares:  5\n",
      "el resultado de la suma es : 30\n"
     ]
    }
   ],
   "source": [
    "#  suma_pares.py\n",
    "numero = int(input('Ingrese un numero para sumar los pares:  '))\n",
    "numero = numero * 2\n",
    "suma = 0\n",
    "for x in range(numero):\n",
    "    if x%2 ==0:\n",
    "        acum = x + 2\n",
    "        suma += acum\n",
    "print(f'el resultado de la suma es : {suma}')"
   ]
  },
  {
   "cell_type": "code",
   "execution_count": 55,
   "metadata": {},
   "outputs": [
    {
     "name": "stdout",
     "output_type": "stream",
     "text": [
      "Ingrese la cantidad de veces que desea repetir el parrafo: 1\n",
      "Lorem ipsum dolor sit amet, consectetur adipiscing elit. Donec metus tellus, mollis ac euismod sit amet, facilisis elementum dui. Maecenas auctor ultricies erat vitae imperdiet. Ut eget dolor euismod, molestie mauris quis, fringilla justo. Praesent tristique risus ex, quis facilisis leo ullamcorper ut. Praesent fringilla est urna, quis tincidunt sem maximus ut. Maecenas egestas interdum posuere. Praesent ultricies tincidunt ligula ut tincidunt. Sed nec imperdiet purus, id pretium sem. Nunc feugiat, mi at ornare pretium, metus felis pharetra mauris, quis condimentum quam sapien eget eros. Vestibulum lobortis auctor massa ut interdum. Donec ultricies metus est, et congue diam malesuada non. Curabitur eget libero quis eros pharetra auctor. Nulla purus ante, ornare id erat ut, tincidunt rutrum arcu. Quisque efficitur libero magna, tincidunt tempor neque malesuada eget. \n",
      "\n"
     ]
    }
   ],
   "source": [
    "text = (\"Lorem ipsum dolor sit amet, consectetur adipiscing elit. Donec metus tellus, mollis ac euismod sit amet, facilisis elementum dui. Maecenas auctor ultricies erat vitae imperdiet. Ut eget dolor euismod, molestie mauris quis, fringilla justo. Praesent tristique risus ex, quis facilisis leo ullamcorper ut. Praesent fringilla est urna, quis tincidunt sem maximus ut. Maecenas egestas interdum posuere. Praesent ultricies tincidunt ligula ut tincidunt. Sed nec imperdiet purus, id pretium sem. Nunc feugiat, mi at ornare pretium, metus felis pharetra mauris, quis condimentum quam sapien eget eros. Vestibulum lobortis auctor massa ut interdum. Donec ultricies metus est, et congue diam malesuada non. Curabitur eget libero quis eros pharetra auctor. Nulla purus ante, ornare id erat ut, tincidunt rutrum arcu. Quisque efficitur libero magna, tincidunt tempor neque malesuada eget. \\n\")\n",
    "veces = int(input('Ingrese la cantidad de veces que desea repetir el parrafo: '))\n",
    "while veces > 0:\n",
    "    print(text)\n",
    "    veces -=1\n"
   ]
  },
  {
   "cell_type": "code",
   "execution_count": 73,
   "metadata": {},
   "outputs": [
    {
     "name": "stdout",
     "output_type": "stream",
     "text": [
      "Igrese la cantidad de letras a mostrar5\n",
      "abcde\n"
     ]
    }
   ],
   "source": [
    "#gen py\n",
    "import string\n",
    "def mostrar(veces):\n",
    "    print(string.ascii_lowercase[:veces])\n",
    "veces = int(input('Igrese la cantidad de letras a mostrar'))\n",
    "mostrar(veces)"
   ]
  },
  {
   "cell_type": "code",
   "execution_count": 86,
   "metadata": {},
   "outputs": [
    {
     "name": "stdout",
     "output_type": "stream",
     "text": [
      "ingrese el numero de simbolos que quiere en el patron: 5\n",
      "ingrese el simbolo 1 del patron 7.\n",
      "ingrese el simbolo 2 del patron 5\n",
      "ingrese el simbolo 3 del patron 6\n",
      "ingrese el simbolo 4 del patron *\n",
      "ingrese el simbolo 5 del patron +\n",
      "ingrese el numero de veces que desea repetir el patron: 8\n",
      "['7.', '5', '6', '*', '+', '7.', '5', '6', '*', '+', '7.', '5', '6', '*', '+', '7.', '5', '6', '*', '+', '7.', '5', '6', '*', '+', '7.', '5', '6', '*', '+', '7.', '5', '6', '*', '+', '7.', '5', '6', '*', '+']\n"
     ]
    }
   ],
   "source": [
    "numero = int(input('ingrese el numero de simbolos que quiere en el patron: '))\n",
    "caracter=[]\n",
    "patron=[]\n",
    "\n",
    "for x in range(numero):\n",
    "    simbolo = input(f'ingrese el simbolo {x+1} del patron ')\n",
    "    caracter.append(simbolo)\n",
    "repetir = int(input('ingrese el numero de veces que desea repetir el patron: '))\n",
    "for x in range(repetir):   \n",
    "    for z in range(numero):\n",
    "        patron.append(caracter[z])\n",
    "print(patron)\n"
   ]
  },
  {
   "cell_type": "code",
   "execution_count": 98,
   "metadata": {},
   "outputs": [
    {
     "name": "stdout",
     "output_type": "stream",
     "text": [
      "cuantas veces desea repetir el patron?3\n",
      "*..*.\n",
      "**..**\n",
      "121\n",
      "12312\n"
     ]
    }
   ],
   "source": [
    "def patron1(cont):\n",
    "    c1='*.'\n",
    "    c2='.'\n",
    "    frase=''\n",
    "    for x in range(cont):\n",
    "        if x%2 ==0:\n",
    "            frase = frase + c1\n",
    "        else:\n",
    "            frase = frase + c2\n",
    "    print(frase)\n",
    "def patron2(cont):\n",
    "    c1='**'\n",
    "    c2='..'\n",
    "    frase=''\n",
    "    for x in range(cont):\n",
    "        if x%2 ==0:\n",
    "            frase = frase + c1\n",
    "        else:\n",
    "            frase = frase + c2\n",
    "    print(frase)\n",
    "def patron3(cont):\n",
    "    c1='1'\n",
    "    c2='2'\n",
    "    frase=''\n",
    "    for x in range(cont):\n",
    "        if x%2 ==0:\n",
    "            frase = frase + c1\n",
    "        else:\n",
    "            frase = frase + c2\n",
    "    print(frase)\n",
    "def patron4(cont):\n",
    "    c1='12'\n",
    "    c2='3'\n",
    "    frase=''\n",
    "    for x in range(cont):\n",
    "        if x%2 ==0:\n",
    "            frase = frase + c1\n",
    "        else:\n",
    "            frase = frase + c2\n",
    "    print(frase)\n",
    "veces=int(input('cuantas veces desea repetir el patron?'))\n",
    "patron1(veces)\n",
    "patron2(veces)\n",
    "patron3(veces)\n",
    "patron4(veces)\n",
    "\n"
   ]
  },
  {
   "cell_type": "code",
   "execution_count": null,
   "metadata": {
    "collapsed": true
   },
   "outputs": [],
   "source": []
  }
 ],
 "metadata": {
  "kernelspec": {
   "display_name": "Python 3",
   "language": "python",
   "name": "python3"
  },
  "language_info": {
   "codemirror_mode": {
    "name": "ipython",
    "version": 3
   },
   "file_extension": ".py",
   "mimetype": "text/x-python",
   "name": "python",
   "nbconvert_exporter": "python",
   "pygments_lexer": "ipython3",
   "version": "3.6.3"
  }
 },
 "nbformat": 4,
 "nbformat_minor": 2
}
