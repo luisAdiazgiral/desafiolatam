{
 "cells": [
  {
   "cell_type": "markdown",
   "metadata": {},
   "source": [
    "# Calculo de velocidad de escape\n"
   ]
  },
  {
   "cell_type": "raw",
   "metadata": {},
   "source": []
  },
  {
   "cell_type": "markdown",
   "metadata": {},
   "source": [
    "Ingrese los datos para realizar el calculo,\n",
    "fomula ve=sqt(gravedad * radio)\n",
    "donde gravedad = gravedad del planeta\n",
    "radio = radio del planeta\n",
    "ve= velocidad de escape"
   ]
  },
  {
   "cell_type": "code",
   "execution_count": 24,
   "metadata": {},
   "outputs": [
    {
     "name": "stdout",
     "output_type": "stream",
     "text": [
      "Bienvenidos al sistema de calculo de velocida de escape\n",
      "Se pedira a continuacion algunos datos\n",
      "Ingrese el valor de la gravedad del planeta: 9.8\n",
      "Ingrese el valor de la gravedad del planeta (exprsado en kilometros)6371\n",
      "La velocidad de escape es de:   11174.596189572132  km/h\n"
     ]
    }
   ],
   "source": [
    "import math\n",
    "print ('Bienvenidos al sistema de calculo de velocida de escape')\n",
    "print ('Se pedira a continuacion algunos datos')\n",
    "gravedad = (float(input ('Ingrese el valor de la gravedad del planeta: ')))\n",
    "radio = (float(input('Ingrese el valor de la gravedad del planeta (exprsado en kilometros)')))\n",
    "ve = math.sqrt((2*radio*1000*gravedad))\n",
    "print('La velocidad de escape es de:  ', ve ,' km/h')\n"
   ]
  },
  {
   "cell_type": "markdown",
   "metadata": {},
   "source": [
    "# Desafio 2"
   ]
  },
  {
   "cell_type": "markdown",
   "metadata": {
    "collapsed": true
   },
   "source": [
    "Evaluacion de rentabilidad de aplicaciones\n",
    "requisitos:\n",
    "El producto planea venderse en 50 dólares.\n",
    "Se espera tener 1000 usuarios en el año.\n",
    "Los gastos del año son 20000 dólares Las utilidades se calculan como Los impuestos aplicados a las utilidades son el 35% y solo aplican si es positivo.\n"
   ]
  },
  {
   "cell_type": "code",
   "execution_count": 36,
   "metadata": {},
   "outputs": [
    {
     "name": "stdout",
     "output_type": "stream",
     "text": [
      "Bienvenido al programa de calculo de rentabilidad\n",
      "Ingrese cantidad de usuarios al año (estimativo):  50\n",
      "ingrese el valor del producto200\n",
      "La utilidad neta es:  -10000.0\n",
      "La utilidad total es:  -10000.0\n",
      "\n",
      "El software NO es rentable\n"
     ]
    }
   ],
   "source": [
    "print('Bienvenido al programa de calculo de rentabilidad')\n",
    "usuarios=(float(input('Ingrese cantidad de usuarios al año (estimativo):  ')))\n",
    "valor= (float(input(\"ingrese el valor del producto\" )))\n",
    "gastos=20000\n",
    "utilidad=((usuarios*valor)-gastos)\n",
    "print('La utilidad neta es: ', utilidad)\n",
    "if (utilidad>0):\n",
    "    impuesto=(float(utilidad))*.35\n",
    "    print('El impuesto a pagar es: ',impuesto)\n",
    "    print('La utilidad final (total menos los impuestos) es : ', utilidad - impuesto)\n",
    "    print('')\n",
    "    print('El software es rentable')\n",
    "if (utilidad<0):\n",
    "    print('La utilidad total es: ', utilidad)\n",
    "    print('')\n",
    "    print('El software NO es rentable')"
   ]
  },
  {
   "cell_type": "code",
   "execution_count": null,
   "metadata": {
    "collapsed": true
   },
   "outputs": [],
   "source": []
  },
  {
   "cell_type": "code",
   "execution_count": null,
   "metadata": {
    "collapsed": true
   },
   "outputs": [],
   "source": [
    "import sys \n",
    "print('Bienvenido al programa de calculo de rentabilidad')\n",
    "print('\"Ingrese cantidad de usuarios al año (estimativo)\", \"ingrese el valor del producto\", \"los gastos estimativos\"   ')\n",
    "usuarios = sys.argv[0]\n",
    "valor = sys.argv[1]\n",
    "gastos= sys.argv[2]\n",
    "utilidad=((usuarios*valor)-gastos)\n",
    "print('La utilidad neta es: ', utilidad)\n",
    "if (utilidad>0):\n",
    "    impuesto=(float(utilidad))*.35\n",
    "    print('El impuesto a pagar es: ',impuesto)\n",
    "    print('La utilidad final (total menos los impuestos) es : ', utilidad - impuesto)\n",
    "    print('')\n",
    "    print('El software es rentable')\n",
    "if (utilidad<0):\n",
    "    print('La utilidad total es: ', utilidad)\n",
    "    print('')\n",
    "    print('El software NO es rentable')"
   ]
  }
 ],
 "metadata": {
  "kernelspec": {
   "display_name": "Python 3",
   "language": "python",
   "name": "python3"
  },
  "language_info": {
   "codemirror_mode": {
    "name": "ipython",
    "version": 3
   },
   "file_extension": ".py",
   "mimetype": "text/x-python",
   "name": "python",
   "nbconvert_exporter": "python",
   "pygments_lexer": "ipython3",
   "version": "3.6.3"
  }
 },
 "nbformat": 4,
 "nbformat_minor": 2
}
