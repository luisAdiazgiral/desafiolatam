{
 "cells": [
  {
   "cell_type": "code",
   "execution_count": 6,
   "metadata": {
    "collapsed": true
   },
   "outputs": [],
   "source": [
    "#crear diccionario\n",
    "usuarios_por_pais = {\"México\": 65,\"Chile\": 50,\"Argentina\": 55, }\n"
   ]
  },
  {
   "cell_type": "code",
   "execution_count": 5,
   "metadata": {},
   "outputs": [
    {
     "name": "stdout",
     "output_type": "stream",
     "text": [
      "México\n",
      "Chile\n",
      "Argentina\n"
     ]
    }
   ],
   "source": [
    "#mostrar solo los paises\n",
    "for pais in usuarios_por_pais:\n",
    "    print(pais)"
   ]
  },
  {
   "cell_type": "code",
   "execution_count": 3,
   "metadata": {},
   "outputs": [
    {
     "name": "stdout",
     "output_type": "stream",
     "text": [
      "México\n"
     ]
    }
   ],
   "source": [
    "# Mostrar solo los países con más de 60 usuarios\n",
    "usuarios_por_pais = {\"México\": 65,\"Chile\": 50,\"Argentina\": 55, }\n",
    "for pais in usuarios_por_pais:\n",
    "    usuarios=usuarios_por_pais[pais]\n",
    "    if usuarios > 60:\n",
    "        print(pais)"
   ]
  },
  {
   "cell_type": "code",
   "execution_count": 10,
   "metadata": {},
   "outputs": [
    {
     "name": "stdout",
     "output_type": "stream",
     "text": [
      "México\n"
     ]
    }
   ],
   "source": [
    "# Mostrar solo los países con más de 60 usuarios optimizado\n",
    "for pais, usuarios in usuarios_por_pais.items():\n",
    "    if usuarios > 60:\n",
    "        print(pais)"
   ]
  },
  {
   "cell_type": "code",
   "execution_count": null,
   "metadata": {
    "collapsed": true
   },
   "outputs": [],
   "source": []
  },
  {
   "cell_type": "code",
   "execution_count": 7,
   "metadata": {
    "collapsed": true
   },
   "outputs": [],
   "source": [
    "#ejercicio 2"
   ]
  },
  {
   "cell_type": "code",
   "execution_count": 9,
   "metadata": {
    "collapsed": true
   },
   "outputs": [],
   "source": [
    "#creando diccionadio\n",
    "ventas_mensuales = {\"Octubre\": 65000,\"Noviembre\": 68000,\"Diciembre\": 72000, }\n"
   ]
  },
  {
   "cell_type": "code",
   "execution_count": 13,
   "metadata": {},
   "outputs": [
    {
     "name": "stdout",
     "output_type": "stream",
     "text": [
      "{'Octubre': 71500.0, 'Noviembre': 74800.0, 'Diciembre': 79200.0}\n"
     ]
    }
   ],
   "source": [
    "#incrementar las ventas en un 10%\n",
    "for meses, valor in ventas_mensuales.items():\n",
    "    ventas_mensuales[meses]=valor*1.10\n",
    "print(ventas_mensuales)"
   ]
  },
  {
   "cell_type": "code",
   "execution_count": 15,
   "metadata": {},
   "outputs": [
    {
     "name": "stdout",
     "output_type": "stream",
     "text": [
      "{'Octubre': 71500.0, 'Noviembre': 74800.0, 'Diciembre': 79200.0}\n",
      "{'Octubre': 57200.0, 'Noviembre': 59840.0, 'Diciembre': 63360.0}\n"
     ]
    }
   ],
   "source": [
    "#crear diccionario disminuido en un 20%\n",
    "ventas_mensuales2={}\n",
    "for meses, valor in ventas_mensuales.items():\n",
    "    ventas_mensuales2[meses]=valor*.8\n",
    "print(ventas_mensuales)\n",
    "print(ventas_mensuales2)"
   ]
  },
  {
   "cell_type": "code",
   "execution_count": 22,
   "metadata": {
    "collapsed": true
   },
   "outputs": [],
   "source": [
    "#Dados los siguientes datos, crear un método que devuelva otro diccionario pero ﬁltrando todos aquellos\n",
    "#pares con un valor inferior a 70000.\n",
    "ventas_mensuales3 = {\"Octubre\": 65000,\"Noviembre\": 68000,\"Diciembre\": 72000, }\n"
   ]
  },
  {
   "cell_type": "code",
   "execution_count": 24,
   "metadata": {},
   "outputs": [
    {
     "name": "stdout",
     "output_type": "stream",
     "text": [
      "{'Octubre': 65000, 'Noviembre': 68000}\n"
     ]
    }
   ],
   "source": [
    "nuevas_ventas_mensuales={}\n",
    "for meses, valores in ventas_mensuales3.items():\n",
    "    if ventas_mensuales3[meses]<70000:\n",
    "        nuevas_ventas_mensuales[meses]=valores\n",
    "print(nuevas_ventas_mensuales)"
   ]
  },
  {
   "cell_type": "code",
   "execution_count": 33,
   "metadata": {
    "collapsed": true
   },
   "outputs": [],
   "source": [
    "#Podemos eliminar una llave de un diccionario, junto a su valor, de dos formas: usando el método pop del diccionario\n",
    "#o utilizando del . La principal diferencia entre ambas formas es que al utilizar pop obtendremos el valor del elemento\n",
    "#eliminado.\n",
    "\n",
    "diccionario = {\"llave 1\": 1,\"llave 2\": 2,\"llave 3\": 3, \"llave 4\":4}\n",
    "\n"
   ]
  },
  {
   "cell_type": "code",
   "execution_count": 34,
   "metadata": {},
   "outputs": [
    {
     "name": "stdout",
     "output_type": "stream",
     "text": [
      "{'llave 2': 2, 'llave 3': 3, 'llave 4': 4}\n"
     ]
    }
   ],
   "source": [
    "#usando el del\n",
    "del diccionario[\"llave 1\"]\n",
    " \n",
    "print(diccionario)\n"
   ]
  },
  {
   "cell_type": "code",
   "execution_count": 35,
   "metadata": {},
   "outputs": [
    {
     "name": "stdout",
     "output_type": "stream",
     "text": [
      "2\n",
      "{'llave 3': 3, 'llave 4': 4}\n"
     ]
    }
   ],
   "source": [
    "#usando el pop\n",
    "eliminado = diccionario.pop(\"llave 2\")\n",
    " \n",
    "print(eliminado)\n",
    "print(diccionario)"
   ]
  },
  {
   "cell_type": "code",
   "execution_count": 36,
   "metadata": {},
   "outputs": [
    {
     "name": "stdout",
     "output_type": "stream",
     "text": [
      "4\n"
     ]
    }
   ],
   "source": [
    "eliminado = diccionario.pop(\"llave 4\")\n",
    "print(eliminado)"
   ]
  },
  {
   "cell_type": "code",
   "execution_count": 37,
   "metadata": {},
   "outputs": [
    {
     "name": "stdout",
     "output_type": "stream",
     "text": [
      "{'X': 1, 'Y': 2}\n"
     ]
    }
   ],
   "source": [
    "#Una operación muy común es unir dos diccionarios, lo que se puede lograr a través de la siguiente expresión:\n",
    "x = {\"X\": 1}\n",
    "y = {\"Y\": 2}\n",
    " \n",
    "# Union de x e y\n",
    "x.update(y)\n",
    " \n",
    "# Notar que la unión queda en el primer diccionario\n",
    "print(x)\n"
   ]
  },
  {
   "cell_type": "code",
   "execution_count": 3,
   "metadata": {},
   "outputs": [
    {
     "name": "stdout",
     "output_type": "stream",
     "text": [
      "{'#cc0000': 'red', '#00cc00': 'green', '#0000cc': 'blue'}\n"
     ]
    }
   ],
   "source": [
    "#invirtiendo un diccionario es decir permitar claves y valores\n",
    "colors = {\"red\": \"#cc0000\",\"green\": \"#00cc00\",\"blue\": \"#0000cc\"}\n",
    "colors_inv = {v: k for k, v in colors.items()}\n",
    "colors_inv[\"#cc0000\"] # red\n",
    "print(colors_inv)"
   ]
  },
  {
   "cell_type": "code",
   "execution_count": 4,
   "metadata": {},
   "outputs": [
    {
     "data": {
      "text/plain": [
       "dict_keys(['red', 'green', 'blue'])"
      ]
     },
     "execution_count": 4,
     "metadata": {},
     "output_type": "execute_result"
    }
   ],
   "source": [
    "#obtener todas las claves de un diccionario\n",
    "colors.keys()"
   ]
  },
  {
   "cell_type": "code",
   "execution_count": 14,
   "metadata": {},
   "outputs": [],
   "source": [
    "a=list(colors.keys())\n",
    "b=list(colors.values())"
   ]
  },
  {
   "cell_type": "code",
   "execution_count": 15,
   "metadata": {},
   "outputs": [
    {
     "data": {
      "text/plain": [
       "['red', 'green', 'blue', '#cc0000', '#00cc00', '#0000cc']"
      ]
     },
     "execution_count": 15,
     "metadata": {},
     "output_type": "execute_result"
    }
   ],
   "source": [
    "c=a+b\n",
    "c"
   ]
  },
  {
   "cell_type": "code",
   "execution_count": null,
   "metadata": {
    "collapsed": true
   },
   "outputs": [],
   "source": []
  },
  {
   "cell_type": "code",
   "execution_count": null,
   "metadata": {
    "collapsed": true
   },
   "outputs": [],
   "source": []
  },
  {
   "cell_type": "code",
   "execution_count": null,
   "metadata": {
    "collapsed": true
   },
   "outputs": [],
   "source": []
  },
  {
   "cell_type": "code",
   "execution_count": null,
   "metadata": {
    "collapsed": true
   },
   "outputs": [],
   "source": []
  },
  {
   "cell_type": "code",
   "execution_count": null,
   "metadata": {
    "collapsed": true
   },
   "outputs": [],
   "source": []
  },
  {
   "cell_type": "code",
   "execution_count": null,
   "metadata": {
    "collapsed": true
   },
   "outputs": [],
   "source": []
  },
  {
   "cell_type": "code",
   "execution_count": null,
   "metadata": {
    "collapsed": true
   },
   "outputs": [],
   "source": []
  },
  {
   "cell_type": "code",
   "execution_count": null,
   "metadata": {
    "collapsed": true
   },
   "outputs": [],
   "source": []
  },
  {
   "cell_type": "code",
   "execution_count": null,
   "metadata": {
    "collapsed": true
   },
   "outputs": [],
   "source": []
  },
  {
   "cell_type": "code",
   "execution_count": null,
   "metadata": {
    "collapsed": true
   },
   "outputs": [],
   "source": []
  },
  {
   "cell_type": "code",
   "execution_count": null,
   "metadata": {
    "collapsed": true
   },
   "outputs": [],
   "source": []
  },
  {
   "cell_type": "code",
   "execution_count": null,
   "metadata": {
    "collapsed": true
   },
   "outputs": [],
   "source": []
  },
  {
   "cell_type": "code",
   "execution_count": null,
   "metadata": {
    "collapsed": true
   },
   "outputs": [],
   "source": []
  },
  {
   "cell_type": "code",
   "execution_count": null,
   "metadata": {
    "collapsed": true
   },
   "outputs": [],
   "source": []
  },
  {
   "cell_type": "code",
   "execution_count": null,
   "metadata": {
    "collapsed": true
   },
   "outputs": [],
   "source": []
  },
  {
   "cell_type": "code",
   "execution_count": null,
   "metadata": {
    "collapsed": true
   },
   "outputs": [],
   "source": []
  },
  {
   "cell_type": "code",
   "execution_count": null,
   "metadata": {
    "collapsed": true
   },
   "outputs": [],
   "source": []
  },
  {
   "cell_type": "code",
   "execution_count": null,
   "metadata": {
    "collapsed": true
   },
   "outputs": [],
   "source": []
  },
  {
   "cell_type": "code",
   "execution_count": null,
   "metadata": {
    "collapsed": true
   },
   "outputs": [],
   "source": []
  },
  {
   "cell_type": "code",
   "execution_count": null,
   "metadata": {
    "collapsed": true
   },
   "outputs": [],
   "source": []
  },
  {
   "cell_type": "code",
   "execution_count": null,
   "metadata": {
    "collapsed": true
   },
   "outputs": [],
   "source": []
  },
  {
   "cell_type": "code",
   "execution_count": null,
   "metadata": {
    "collapsed": true
   },
   "outputs": [],
   "source": []
  },
  {
   "cell_type": "code",
   "execution_count": null,
   "metadata": {
    "collapsed": true
   },
   "outputs": [],
   "source": []
  },
  {
   "cell_type": "code",
   "execution_count": null,
   "metadata": {
    "collapsed": true
   },
   "outputs": [],
   "source": []
  },
  {
   "cell_type": "code",
   "execution_count": null,
   "metadata": {
    "collapsed": true
   },
   "outputs": [],
   "source": []
  },
  {
   "cell_type": "code",
   "execution_count": null,
   "metadata": {
    "collapsed": true
   },
   "outputs": [],
   "source": []
  }
 ],
 "metadata": {
  "kernelspec": {
   "display_name": "Python 3",
   "language": "python",
   "name": "python3"
  },
  "language_info": {
   "codemirror_mode": {
    "name": "ipython",
    "version": 3
   },
   "file_extension": ".py",
   "mimetype": "text/x-python",
   "name": "python",
   "nbconvert_exporter": "python",
   "pygments_lexer": "ipython3",
   "version": "3.6.3"
  }
 },
 "nbformat": 4,
 "nbformat_minor": 2
}
