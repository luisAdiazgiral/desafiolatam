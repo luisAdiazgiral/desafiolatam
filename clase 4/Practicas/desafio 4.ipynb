{
 "cells": [
  {
   "cell_type": "code",
   "execution_count": 10,
   "metadata": {},
   "outputs": [
    {
     "name": "stdout",
     "output_type": "stream",
     "text": [
      "81000\n",
      "91000\n"
     ]
    }
   ],
   "source": [
    "#iter1.py \n",
    "ventas = {\n",
    "    \"Enero\": 15000,\n",
    "    \"Febrero\": 22000,\n",
    "    \"Marzo\": 12000,\n",
    "    \"Abril\": 17000,\n",
    "    \"Mayo\": 81000, \n",
    "    \"Junio\": 13000,\n",
    "    \"Julio\": 21000,\n",
    "    \"Agosto\": 41200,\n",
    "    \"Septiembre\": 25000,\n",
    "    \"Octubre\": 21500,\n",
    "    \"Noviembre\": 91000,\n",
    "    \"Diciembre\": 21000, }\n",
    "for meses, valores in ventas.items():\n",
    "    if valores>45000:\n",
    "        print(valores)"
   ]
  },
  {
   "cell_type": "code",
   "execution_count": 5,
   "metadata": {},
   "outputs": [
    {
     "name": "stdout",
     "output_type": "stream",
     "text": [
      "Mayo\n",
      "Noviembre\n"
     ]
    }
   ],
   "source": [
    "#iter2.py \n",
    "ventas = {\n",
    "    \"Enero\": 15000,\n",
    "    \"Febrero\": 22000,\n",
    "    \"Marzo\": 12000,\n",
    "    \"Abril\": 17000,\n",
    "    \"Mayo\": 81000, \n",
    "    \"Junio\": 13000,\n",
    "    \"Julio\": 21000,\n",
    "    \"Agosto\": 41200,\n",
    "    \"Septiembre\": 25000,\n",
    "    \"Octubre\": 21500,\n",
    "    \"Noviembre\": 91000,\n",
    "    \"Diciembre\": 21000, }\n",
    "for meses, valores in ventas.items():\n",
    "    if valores>45000:\n",
    "        print(meses)"
   ]
  },
  {
   "cell_type": "code",
   "execution_count": null,
   "metadata": {
    "collapsed": true
   },
   "outputs": [],
   "source": [
    "#iter3.py\n",
    "ventas = {\n",
    "    \"Enero\": 15000,\n",
    "    \"Febrero\": 22000,\n",
    "    \"Marzo\": 12000,\n",
    "    \"Abril\": 17000,\n",
    "    \"Mayo\": 81000, \n",
    "    \"Junio\": 13000,\n",
    "    \"Julio\": 21000,\n",
    "    \"Agosto\": 41200,\n",
    "    \"Septiembre\": 25000,\n",
    "    \"Octubre\": 21500,\n",
    "    \"Noviembre\": 91000,\n",
    "    \"Diciembre\": 21000, }\n",
    "diccio={}\n",
    "dicc={}\n",
    "def filter(dicc,compara):\n",
    "    for meses, valores in dicc.items():\n",
    "        if valores > compara:\n",
    "            diccio[meses]=valores\n",
    "\n",
    "compara = int(input('ingrese el valor para crear el diccionadio: \\n'))\n",
    "filter(ventas,compara)\n",
    "print(diccio)"
   ]
  },
  {
   "cell_type": "code",
   "execution_count": null,
   "metadata": {
    "collapsed": true
   },
   "outputs": [],
   "source": [
    "#busqueda.py\n",
    "import sys\n",
    "ventas = {\n",
    "    \"Enero\": 15000,\n",
    "    \"Febrero\": 22000,\n",
    "    \"Marzo\": 12000,\n",
    "    \"Abril\": 17000,\n",
    "    \"Mayo\": 81000, \n",
    "    \"Junio\": 13000,\n",
    "    \"Julio\": 21000,\n",
    "    \"Agosto\": 41200,\n",
    "    \"Septiembre\": 25000,\n",
    "    \"Octubre\": 21500,\n",
    "    \"Noviembre\": 91000,\n",
    "    \"Diciembre\": 21000, }\n",
    "dato=sys.argv[1:]\n",
    "for compara in dato:\n",
    "    for meses, valores in ventas.items():\n",
    "        if valores == compara:\n",
    "            print(meses,\"\\n\")\n",
    "    if valores != compara:\n",
    "        print(\"no encontrado \\n\")\n"
   ]
  },
  {
   "cell_type": "code",
   "execution_count": 8,
   "metadata": {},
   "outputs": [
    {
     "name": "stdout",
     "output_type": "stream",
     "text": [
      "{'Q1', 'Q4', 'Q2', 'Q3'}\n"
     ]
    }
   ],
   "source": [
    "#quaters\n",
    "ventas = {\n",
    "    \"Enero\": 15000,\n",
    "    \"Febrero\": 22000,\n",
    "    \"Marzo\": 12000,\n",
    "    \"Abril\": 17000,\n",
    "    \"Mayo\": 81000, \n",
    "    \"Junio\": 13000,\n",
    "    \"Julio\": 21000,\n",
    "    \"Agosto\": 41200,\n",
    "    \"Septiembre\": 25000,\n",
    "    \"Octubre\": 21500,\n",
    "    \"Noviembre\": 91000,\n",
    "    \"Diciembre\": 21000, }\n",
    "valores=[]\n",
    "quaters={\"Q1\",\"Q2\",\"Q3\",\"Q4\"}\n",
    "valores=list(ventas.values())\n",
    "for x in valores:\n",
    "    if x<2:\n",
    "        q1 += x\n",
    "        print(q1)\n",
    "    elif x>2 and x<5:\n",
    "        q2 += x\n",
    "print(quaters)"
   ]
  },
  {
   "cell_type": "code",
   "execution_count": null,
   "metadata": {
    "collapsed": true
   },
   "outputs": [],
   "source": []
  },
  {
   "cell_type": "code",
   "execution_count": null,
   "metadata": {
    "collapsed": true
   },
   "outputs": [],
   "source": []
  },
  {
   "cell_type": "code",
   "execution_count": null,
   "metadata": {
    "collapsed": true
   },
   "outputs": [],
   "source": []
  },
  {
   "cell_type": "code",
   "execution_count": null,
   "metadata": {
    "collapsed": true
   },
   "outputs": [],
   "source": []
  },
  {
   "cell_type": "code",
   "execution_count": null,
   "metadata": {
    "collapsed": true
   },
   "outputs": [],
   "source": []
  },
  {
   "cell_type": "code",
   "execution_count": null,
   "metadata": {
    "collapsed": true
   },
   "outputs": [],
   "source": []
  },
  {
   "cell_type": "code",
   "execution_count": null,
   "metadata": {
    "collapsed": true
   },
   "outputs": [],
   "source": []
  },
  {
   "cell_type": "code",
   "execution_count": null,
   "metadata": {
    "collapsed": true
   },
   "outputs": [],
   "source": []
  },
  {
   "cell_type": "code",
   "execution_count": null,
   "metadata": {
    "collapsed": true
   },
   "outputs": [],
   "source": []
  },
  {
   "cell_type": "code",
   "execution_count": null,
   "metadata": {
    "collapsed": true
   },
   "outputs": [],
   "source": []
  },
  {
   "cell_type": "code",
   "execution_count": null,
   "metadata": {
    "collapsed": true
   },
   "outputs": [],
   "source": []
  },
  {
   "cell_type": "code",
   "execution_count": null,
   "metadata": {
    "collapsed": true
   },
   "outputs": [],
   "source": []
  },
  {
   "cell_type": "code",
   "execution_count": null,
   "metadata": {
    "collapsed": true
   },
   "outputs": [],
   "source": []
  },
  {
   "cell_type": "code",
   "execution_count": null,
   "metadata": {
    "collapsed": true
   },
   "outputs": [],
   "source": []
  },
  {
   "cell_type": "code",
   "execution_count": null,
   "metadata": {
    "collapsed": true
   },
   "outputs": [],
   "source": []
  },
  {
   "cell_type": "code",
   "execution_count": null,
   "metadata": {
    "collapsed": true
   },
   "outputs": [],
   "source": []
  },
  {
   "cell_type": "code",
   "execution_count": null,
   "metadata": {
    "collapsed": true
   },
   "outputs": [],
   "source": []
  },
  {
   "cell_type": "code",
   "execution_count": null,
   "metadata": {
    "collapsed": true
   },
   "outputs": [],
   "source": []
  }
 ],
 "metadata": {
  "kernelspec": {
   "display_name": "Python 3",
   "language": "python",
   "name": "python3"
  },
  "language_info": {
   "codemirror_mode": {
    "name": "ipython",
    "version": 3
   },
   "file_extension": ".py",
   "mimetype": "text/x-python",
   "name": "python",
   "nbconvert_exporter": "python",
   "pygments_lexer": "ipython3",
   "version": "3.6.3"
  }
 },
 "nbformat": 4,
 "nbformat_minor": 2
}
